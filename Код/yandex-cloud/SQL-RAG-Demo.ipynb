{
 "cells": [
  {
   "cell_type": "markdown",
   "id": "03a5c00c",
   "metadata": {},
   "source": [
    "## Конвертация естественного языка в запросы SQL"
   ]
  },
  {
   "cell_type": "markdown",
   "id": "d06633c3",
   "metadata": {},
   "source": [
    "В грубом приближении этапы работы RAG через SQL заключаются в следующих пунктах:\n",
    "\n",
    "- `Привести вопрос пользователя на естественном языке к запросу SQL`\n",
    "- `Исполнить запрос`\n",
    "- `Дать модели результат и сгенерировать ответ пользователю с учётом полученных данных`"
   ]
  },
  {
   "cell_type": "code",
   "execution_count": 1,
   "id": "5ddeeaf6",
   "metadata": {},
   "outputs": [],
   "source": [
    "from langchain.utilities import SQLDatabase\n",
    "from langchain_community.llms import YandexGPT\n",
    "from langchain_community.chat_models import ChatYandexGPT\n",
    "from langchain_core.messages import HumanMessage, SystemMessage\n",
    "from langchain_experimental.sql import SQLDatabaseChain\n",
    "from langchain.chains import create_sql_query_chain\n",
    "from langchain.prompts import PromptTemplate\n",
    "from dotenv import load_dotenv\n",
    "import sqlite3\n",
    "\n",
    "from langchain_core.globals import set_debug\n",
    "set_debug(True)"
   ]
  },
  {
   "cell_type": "code",
   "execution_count": 2,
   "id": "14e5a5ad-336b-4746-8665-01edaa5b871b",
   "metadata": {},
   "outputs": [
    {
     "name": "stdout",
     "output_type": "stream",
     "text": [
      "Given an input question, first create a syntactically correct {dialect} query to run, then look at the results of the query and return the answer. Unless the user specifies in his question a specific number of examples he wishes to obtain, always limit your query to at most {top_k} results. You can order the results by a relevant column to return the most interesting examples in the database.\n",
      "\n",
      "Never query for all the columns from a specific table, only ask for a few relevant columns given the question.\n",
      "\n",
      "Pay attention to use only the column names that you can see in the schema description. Be careful to not query for columns that do not exist. Also, pay attention to which column is in which table.\n",
      "\n",
      "Use the following format:\n",
      "\n",
      "Question: Question here\n",
      "SQLQuery: SQL Query to run\n",
      "SQLResult: Result of the SQLQuery\n",
      "Answer: Final answer here\n",
      "\n",
      "Only use the following tables:\n",
      "{table_info}\n",
      "\n",
      "Question: {input}\n"
     ]
    }
   ],
   "source": [
    "from langchain.chains.sql_database.prompt import PROMPT\n",
    "print(PROMPT.template)"
   ]
  },
  {
   "cell_type": "code",
   "execution_count": 3,
   "id": "b30624fa",
   "metadata": {},
   "outputs": [
    {
     "data": {
      "text/plain": [
       "True"
      ]
     },
     "execution_count": 3,
     "metadata": {},
     "output_type": "execute_result"
    }
   ],
   "source": [
    "load_dotenv()"
   ]
  },
  {
   "cell_type": "code",
   "execution_count": 4,
   "id": "e3470b8e-3e21-4164-952f-0713ea1bfad3",
   "metadata": {},
   "outputs": [],
   "source": [
    "import pandas as pd\n",
    "\n",
    "database_name = \"analytics.db\"\n",
    "csv_files = {\n",
    "    \"customer\":\"data/customer.csv\",\n",
    "    \"employee\":\"data/employee.csv\",\n",
    "    \"sale\":\"data/sale.csv\"\n",
    "}\n",
    "\n",
    "conn = sqlite3.connect(database_name)\n",
    "\n",
    "for table_name, csv_path in csv_files.items():\n",
    "    df = pd.read_csv(csv_path)\n",
    "    df.to_sql(\n",
    "        name=table_name,\n",
    "        con=conn,\n",
    "        if_exists=\"replace\",\n",
    "        index=False\n",
    "    )\n",
    "\n",
    "conn.close()"
   ]
  },
  {
   "cell_type": "code",
   "execution_count": 5,
   "id": "203dcbe2",
   "metadata": {},
   "outputs": [],
   "source": [
    "llm = ChatYandexGPT(model_name=\"yandexgpt\", temperature=0)"
   ]
  },
  {
   "cell_type": "code",
   "execution_count": 6,
   "id": "a5ac620a",
   "metadata": {},
   "outputs": [
    {
     "name": "stdout",
     "output_type": "stream",
     "text": [
      "input_variables=['input', 'table_info'] input_types={} partial_variables={'top_k': '5'} template='You are a SQLite expert. Given an input question, first create a syntactically correct SQLite query to run, then look at the results of the query and return the answer to the input question.\\nUnless the user specifies in the question a specific number of examples to obtain, query for at most {top_k} results using the LIMIT clause as per SQLite. You can order the results to return the most informative data in the database.\\nNever query for all columns from a table. You must query only the columns that are needed to answer the question. Wrap each column name in double quotes (\") to denote them as delimited identifiers.\\nPay attention to use only the column names you can see in the tables below. Be careful to not query for columns that do not exist. Also, pay attention to which column is in which table.\\nPay attention to use date(\\'now\\') function to get the current date, if the question involves \"today\".\\n\\nUse the following format:\\n\\nQuestion: Question here\\nSQLQuery: SQL Query to run\\nSQLResult: Result of the SQLQuery\\nAnswer: Final answer here\\n\\nOnly use the following tables:\\n{table_info}\\n\\nQuestion: {input}'\n"
     ]
    }
   ],
   "source": [
    "db = SQLDatabase.from_uri(\"sqlite:///analytics.db\", sample_rows_in_table_info=1)\n",
    "\n",
    "template = '''Ты эксперт по SQLite. Получив вопрос после Question, сперва сгенерируй синтаксически верный SQLite запрос, отвечающий на этот вопрос, и запиши его, затем просмотри результат запроса и верни ответ на вопрос.\n",
    "Запрашивай не более чем {top_k} результатов за запрос\n",
    "Используй следующий формат:\n",
    "\n",
    "Question: \"Вопрос здесь\"\n",
    "SQLQuery: \"SQL запрос для выполнения\"\n",
    "SQLResult: \"Результат SQL запроса\"\n",
    "Answer: \"Конечный ответ здесь\"\n",
    "\n",
    "Используй только следующие имена таблиц:\n",
    "\n",
    "{table_info}.\n",
    "\n",
    "Question: {input}'''\n",
    "\n",
    "prompt = PromptTemplate.from_template(template)\n",
    "\n",
    "chain = create_sql_query_chain(llm, db,)\n",
    "\n",
    "print(chain.middle[1])"
   ]
  },
  {
   "cell_type": "code",
   "execution_count": 7,
   "id": "8fb4c912",
   "metadata": {},
   "outputs": [
    {
     "name": "stdout",
     "output_type": "stream",
     "text": [
      "sqlite\n",
      "['customer', 'employee', 'sale']\n"
     ]
    },
    {
     "data": {
      "text/plain": [
       "'[(1000,)]'"
      ]
     },
     "execution_count": 7,
     "metadata": {},
     "output_type": "execute_result"
    }
   ],
   "source": [
    "print(db.dialect)\n",
    "print(db.get_usable_table_names())\n",
    "db.run(\"SELECT count(*) FROM customer LIMIT 10;\")"
   ]
  },
  {
   "cell_type": "code",
   "execution_count": 21,
   "id": "fb6515e1",
   "metadata": {},
   "outputs": [
    {
     "name": "stdout",
     "output_type": "stream",
     "text": [
      "\u001b[32;1m\u001b[1;3m[chain/start]\u001b[0m \u001b[1m[chain:RunnableSequence] Entering Chain run with input:\n",
      "\u001b[0m{\n",
      "  \"question\": \"Сколько у нас работников?\"\n",
      "}\n",
      "\u001b[32;1m\u001b[1;3m[chain/start]\u001b[0m \u001b[1m[chain:RunnableSequence > chain:RunnableAssign<input,table_info>] Entering Chain run with input:\n",
      "\u001b[0m{\n",
      "  \"question\": \"Сколько у нас работников?\"\n",
      "}\n",
      "\u001b[32;1m\u001b[1;3m[chain/start]\u001b[0m \u001b[1m[chain:RunnableSequence > chain:RunnableAssign<input,table_info> > chain:RunnableParallel<input,table_info>] Entering Chain run with input:\n",
      "\u001b[0m{\n",
      "  \"question\": \"Сколько у нас работников?\"\n",
      "}\n",
      "\u001b[32;1m\u001b[1;3m[chain/start]\u001b[0m \u001b[1m[chain:RunnableSequence > chain:RunnableAssign<input,table_info> > chain:RunnableParallel<input,table_info> > chain:RunnableLambda] Entering Chain run with input:\n",
      "\u001b[0m{\n",
      "  \"question\": \"Сколько у нас работников?\"\n",
      "}\n",
      "\u001b[36;1m\u001b[1;3m[chain/end]\u001b[0m \u001b[1m[chain:RunnableSequence > chain:RunnableAssign<input,table_info> > chain:RunnableParallel<input,table_info> > chain:RunnableLambda] [0ms] Exiting Chain run with output:\n",
      "\u001b[0m{\n",
      "  \"output\": \"Сколько у нас работников?\\nSQLQuery: \"\n",
      "}\n",
      "\u001b[32;1m\u001b[1;3m[chain/start]\u001b[0m \u001b[1m[chain:RunnableSequence > chain:RunnableAssign<input,table_info> > chain:RunnableParallel<input,table_info> > chain:RunnableLambda] Entering Chain run with input:\n",
      "\u001b[0m{\n",
      "  \"question\": \"Сколько у нас работников?\"\n",
      "}\n",
      "\u001b[36;1m\u001b[1;3m[chain/end]\u001b[0m \u001b[1m[chain:RunnableSequence > chain:RunnableAssign<input,table_info> > chain:RunnableParallel<input,table_info> > chain:RunnableLambda] [2ms] Exiting Chain run with output:\n",
      "\u001b[0m{\n",
      "  \"output\": \"\\nCREATE TABLE customer (\\n\\tcustomerid INTEGER, \\n\\tfirstname TEXT, \\n\\tlastname TEXT, \\n\\tstreetaddress TEXT, \\n\\tcity TEXT, \\n\\tstate TEXT, \\n\\tpostalcode TEXT, \\n\\tcountry TEXT, \\n\\tphone TEXT\\n)\\n\\n/*\\n1 rows from customer table:\\ncustomerid\\tfirstname\\tlastname\\tstreetaddress\\tcity\\tstate\\tpostalcode\\tcountry\\tphone\\n12\\tJames\\tDominick\\t4 Mast Ct\\tPortsmouth\\tVA\\t23703\\tUSA\\t(757) 686-2992\\n*/\\n\\n\\nCREATE TABLE employee (\\n\\temployee_id INTEGER, \\n\\tfirst_name TEXT, \\n\\tlast_name TEXT, \\n\\temail TEXT, \\n\\tphone_number TEXT, \\n\\thire_date TEXT, \\n\\tjob_id TEXT, \\n\\tsalary REAL, \\n\\tmanager_id REAL, \\n\\tdepartment_id INTEGER\\n)\\n\\n/*\\n1 rows from employee table:\\nemployee_id\\tfirst_name\\tlast_name\\temail\\tphone_number\\thire_date\\tjob_id\\tsalary\\tmanager_id\\tdepartment_id\\n100\\tSteven\\tKing\\tsteven.king@example.com\\t515.123.4567\\t2003-06-17\\tAD_PRES\\t24000.0\\tNone\\t90\\n*/\\n\\n\\nCREATE TABLE sale (\\n\\tsaleid INTEGER, \\n\\tsaledate TEXT, \\n\\tcustomerid INTEGER, \\n\\ttax REAL, \\n\\tshipping REAL\\n)\\n\\n/*\\n1 rows from sale table:\\nsaleid\\tsaledate\\tcustomerid\\ttax\\tshipping\\n191228\\t2013-12-31\\t1134\\t0.0\\t44.37\\n*/\"\n",
      "}\n",
      "\u001b[36;1m\u001b[1;3m[chain/end]\u001b[0m \u001b[1m[chain:RunnableSequence > chain:RunnableAssign<input,table_info> > chain:RunnableParallel<input,table_info>] [9ms] Exiting Chain run with output:\n",
      "\u001b[0m{\n",
      "  \"input\": \"Сколько у нас работников?\\nSQLQuery: \",\n",
      "  \"table_info\": \"\\nCREATE TABLE customer (\\n\\tcustomerid INTEGER, \\n\\tfirstname TEXT, \\n\\tlastname TEXT, \\n\\tstreetaddress TEXT, \\n\\tcity TEXT, \\n\\tstate TEXT, \\n\\tpostalcode TEXT, \\n\\tcountry TEXT, \\n\\tphone TEXT\\n)\\n\\n/*\\n1 rows from customer table:\\ncustomerid\\tfirstname\\tlastname\\tstreetaddress\\tcity\\tstate\\tpostalcode\\tcountry\\tphone\\n12\\tJames\\tDominick\\t4 Mast Ct\\tPortsmouth\\tVA\\t23703\\tUSA\\t(757) 686-2992\\n*/\\n\\n\\nCREATE TABLE employee (\\n\\temployee_id INTEGER, \\n\\tfirst_name TEXT, \\n\\tlast_name TEXT, \\n\\temail TEXT, \\n\\tphone_number TEXT, \\n\\thire_date TEXT, \\n\\tjob_id TEXT, \\n\\tsalary REAL, \\n\\tmanager_id REAL, \\n\\tdepartment_id INTEGER\\n)\\n\\n/*\\n1 rows from employee table:\\nemployee_id\\tfirst_name\\tlast_name\\temail\\tphone_number\\thire_date\\tjob_id\\tsalary\\tmanager_id\\tdepartment_id\\n100\\tSteven\\tKing\\tsteven.king@example.com\\t515.123.4567\\t2003-06-17\\tAD_PRES\\t24000.0\\tNone\\t90\\n*/\\n\\n\\nCREATE TABLE sale (\\n\\tsaleid INTEGER, \\n\\tsaledate TEXT, \\n\\tcustomerid INTEGER, \\n\\ttax REAL, \\n\\tshipping REAL\\n)\\n\\n/*\\n1 rows from sale table:\\nsaleid\\tsaledate\\tcustomerid\\ttax\\tshipping\\n191228\\t2013-12-31\\t1134\\t0.0\\t44.37\\n*/\"\n",
      "}\n",
      "\u001b[36;1m\u001b[1;3m[chain/end]\u001b[0m \u001b[1m[chain:RunnableSequence > chain:RunnableAssign<input,table_info>] [9ms] Exiting Chain run with output:\n",
      "\u001b[0m{\n",
      "  \"question\": \"Сколько у нас работников?\",\n",
      "  \"input\": \"Сколько у нас работников?\\nSQLQuery: \",\n",
      "  \"table_info\": \"\\nCREATE TABLE customer (\\n\\tcustomerid INTEGER, \\n\\tfirstname TEXT, \\n\\tlastname TEXT, \\n\\tstreetaddress TEXT, \\n\\tcity TEXT, \\n\\tstate TEXT, \\n\\tpostalcode TEXT, \\n\\tcountry TEXT, \\n\\tphone TEXT\\n)\\n\\n/*\\n1 rows from customer table:\\ncustomerid\\tfirstname\\tlastname\\tstreetaddress\\tcity\\tstate\\tpostalcode\\tcountry\\tphone\\n12\\tJames\\tDominick\\t4 Mast Ct\\tPortsmouth\\tVA\\t23703\\tUSA\\t(757) 686-2992\\n*/\\n\\n\\nCREATE TABLE employee (\\n\\temployee_id INTEGER, \\n\\tfirst_name TEXT, \\n\\tlast_name TEXT, \\n\\temail TEXT, \\n\\tphone_number TEXT, \\n\\thire_date TEXT, \\n\\tjob_id TEXT, \\n\\tsalary REAL, \\n\\tmanager_id REAL, \\n\\tdepartment_id INTEGER\\n)\\n\\n/*\\n1 rows from employee table:\\nemployee_id\\tfirst_name\\tlast_name\\temail\\tphone_number\\thire_date\\tjob_id\\tsalary\\tmanager_id\\tdepartment_id\\n100\\tSteven\\tKing\\tsteven.king@example.com\\t515.123.4567\\t2003-06-17\\tAD_PRES\\t24000.0\\tNone\\t90\\n*/\\n\\n\\nCREATE TABLE sale (\\n\\tsaleid INTEGER, \\n\\tsaledate TEXT, \\n\\tcustomerid INTEGER, \\n\\ttax REAL, \\n\\tshipping REAL\\n)\\n\\n/*\\n1 rows from sale table:\\nsaleid\\tsaledate\\tcustomerid\\ttax\\tshipping\\n191228\\t2013-12-31\\t1134\\t0.0\\t44.37\\n*/\"\n",
      "}\n",
      "\u001b[32;1m\u001b[1;3m[chain/start]\u001b[0m \u001b[1m[chain:RunnableSequence > chain:RunnableLambda] Entering Chain run with input:\n",
      "\u001b[0m{\n",
      "  \"question\": \"Сколько у нас работников?\",\n",
      "  \"input\": \"Сколько у нас работников?\\nSQLQuery: \",\n",
      "  \"table_info\": \"\\nCREATE TABLE customer (\\n\\tcustomerid INTEGER, \\n\\tfirstname TEXT, \\n\\tlastname TEXT, \\n\\tstreetaddress TEXT, \\n\\tcity TEXT, \\n\\tstate TEXT, \\n\\tpostalcode TEXT, \\n\\tcountry TEXT, \\n\\tphone TEXT\\n)\\n\\n/*\\n1 rows from customer table:\\ncustomerid\\tfirstname\\tlastname\\tstreetaddress\\tcity\\tstate\\tpostalcode\\tcountry\\tphone\\n12\\tJames\\tDominick\\t4 Mast Ct\\tPortsmouth\\tVA\\t23703\\tUSA\\t(757) 686-2992\\n*/\\n\\n\\nCREATE TABLE employee (\\n\\temployee_id INTEGER, \\n\\tfirst_name TEXT, \\n\\tlast_name TEXT, \\n\\temail TEXT, \\n\\tphone_number TEXT, \\n\\thire_date TEXT, \\n\\tjob_id TEXT, \\n\\tsalary REAL, \\n\\tmanager_id REAL, \\n\\tdepartment_id INTEGER\\n)\\n\\n/*\\n1 rows from employee table:\\nemployee_id\\tfirst_name\\tlast_name\\temail\\tphone_number\\thire_date\\tjob_id\\tsalary\\tmanager_id\\tdepartment_id\\n100\\tSteven\\tKing\\tsteven.king@example.com\\t515.123.4567\\t2003-06-17\\tAD_PRES\\t24000.0\\tNone\\t90\\n*/\\n\\n\\nCREATE TABLE sale (\\n\\tsaleid INTEGER, \\n\\tsaledate TEXT, \\n\\tcustomerid INTEGER, \\n\\ttax REAL, \\n\\tshipping REAL\\n)\\n\\n/*\\n1 rows from sale table:\\nsaleid\\tsaledate\\tcustomerid\\ttax\\tshipping\\n191228\\t2013-12-31\\t1134\\t0.0\\t44.37\\n*/\"\n",
      "}\n",
      "\u001b[36;1m\u001b[1;3m[chain/end]\u001b[0m \u001b[1m[chain:RunnableSequence > chain:RunnableLambda] [0ms] Exiting Chain run with output:\n",
      "\u001b[0m{\n",
      "  \"input\": \"Сколько у нас работников?\\nSQLQuery: \",\n",
      "  \"table_info\": \"\\nCREATE TABLE customer (\\n\\tcustomerid INTEGER, \\n\\tfirstname TEXT, \\n\\tlastname TEXT, \\n\\tstreetaddress TEXT, \\n\\tcity TEXT, \\n\\tstate TEXT, \\n\\tpostalcode TEXT, \\n\\tcountry TEXT, \\n\\tphone TEXT\\n)\\n\\n/*\\n1 rows from customer table:\\ncustomerid\\tfirstname\\tlastname\\tstreetaddress\\tcity\\tstate\\tpostalcode\\tcountry\\tphone\\n12\\tJames\\tDominick\\t4 Mast Ct\\tPortsmouth\\tVA\\t23703\\tUSA\\t(757) 686-2992\\n*/\\n\\n\\nCREATE TABLE employee (\\n\\temployee_id INTEGER, \\n\\tfirst_name TEXT, \\n\\tlast_name TEXT, \\n\\temail TEXT, \\n\\tphone_number TEXT, \\n\\thire_date TEXT, \\n\\tjob_id TEXT, \\n\\tsalary REAL, \\n\\tmanager_id REAL, \\n\\tdepartment_id INTEGER\\n)\\n\\n/*\\n1 rows from employee table:\\nemployee_id\\tfirst_name\\tlast_name\\temail\\tphone_number\\thire_date\\tjob_id\\tsalary\\tmanager_id\\tdepartment_id\\n100\\tSteven\\tKing\\tsteven.king@example.com\\t515.123.4567\\t2003-06-17\\tAD_PRES\\t24000.0\\tNone\\t90\\n*/\\n\\n\\nCREATE TABLE sale (\\n\\tsaleid INTEGER, \\n\\tsaledate TEXT, \\n\\tcustomerid INTEGER, \\n\\ttax REAL, \\n\\tshipping REAL\\n)\\n\\n/*\\n1 rows from sale table:\\nsaleid\\tsaledate\\tcustomerid\\ttax\\tshipping\\n191228\\t2013-12-31\\t1134\\t0.0\\t44.37\\n*/\"\n",
      "}\n",
      "\u001b[32;1m\u001b[1;3m[chain/start]\u001b[0m \u001b[1m[chain:RunnableSequence > prompt:PromptTemplate] Entering Prompt run with input:\n",
      "\u001b[0m{\n",
      "  \"input\": \"Сколько у нас работников?\\nSQLQuery: \",\n",
      "  \"table_info\": \"\\nCREATE TABLE customer (\\n\\tcustomerid INTEGER, \\n\\tfirstname TEXT, \\n\\tlastname TEXT, \\n\\tstreetaddress TEXT, \\n\\tcity TEXT, \\n\\tstate TEXT, \\n\\tpostalcode TEXT, \\n\\tcountry TEXT, \\n\\tphone TEXT\\n)\\n\\n/*\\n1 rows from customer table:\\ncustomerid\\tfirstname\\tlastname\\tstreetaddress\\tcity\\tstate\\tpostalcode\\tcountry\\tphone\\n12\\tJames\\tDominick\\t4 Mast Ct\\tPortsmouth\\tVA\\t23703\\tUSA\\t(757) 686-2992\\n*/\\n\\n\\nCREATE TABLE employee (\\n\\temployee_id INTEGER, \\n\\tfirst_name TEXT, \\n\\tlast_name TEXT, \\n\\temail TEXT, \\n\\tphone_number TEXT, \\n\\thire_date TEXT, \\n\\tjob_id TEXT, \\n\\tsalary REAL, \\n\\tmanager_id REAL, \\n\\tdepartment_id INTEGER\\n)\\n\\n/*\\n1 rows from employee table:\\nemployee_id\\tfirst_name\\tlast_name\\temail\\tphone_number\\thire_date\\tjob_id\\tsalary\\tmanager_id\\tdepartment_id\\n100\\tSteven\\tKing\\tsteven.king@example.com\\t515.123.4567\\t2003-06-17\\tAD_PRES\\t24000.0\\tNone\\t90\\n*/\\n\\n\\nCREATE TABLE sale (\\n\\tsaleid INTEGER, \\n\\tsaledate TEXT, \\n\\tcustomerid INTEGER, \\n\\ttax REAL, \\n\\tshipping REAL\\n)\\n\\n/*\\n1 rows from sale table:\\nsaleid\\tsaledate\\tcustomerid\\ttax\\tshipping\\n191228\\t2013-12-31\\t1134\\t0.0\\t44.37\\n*/\"\n",
      "}\n",
      "\u001b[36;1m\u001b[1;3m[chain/end]\u001b[0m \u001b[1m[chain:RunnableSequence > prompt:PromptTemplate] [2ms] Exiting Prompt run with output:\n",
      "\u001b[0m[outputs]\n",
      "\u001b[32;1m\u001b[1;3m[llm/start]\u001b[0m \u001b[1m[chain:RunnableSequence > llm:ChatYandexGPT] Entering LLM run with input:\n",
      "\u001b[0m{\n",
      "  \"prompts\": [\n",
      "    \"Human: You are a SQLite expert. Given an input question, first create a syntactically correct SQLite query to run, then look at the results of the query and return the answer to the input question.\\nUnless the user specifies in the question a specific number of examples to obtain, query for at most 5 results using the LIMIT clause as per SQLite. You can order the results to return the most informative data in the database.\\nNever query for all columns from a table. You must query only the columns that are needed to answer the question. Wrap each column name in double quotes (\\\") to denote them as delimited identifiers.\\nPay attention to use only the column names you can see in the tables below. Be careful to not query for columns that do not exist. Also, pay attention to which column is in which table.\\nPay attention to use date('now') function to get the current date, if the question involves \\\"today\\\".\\n\\nUse the following format:\\n\\nQuestion: Question here\\nSQLQuery: SQL Query to run\\nSQLResult: Result of the SQLQuery\\nAnswer: Final answer here\\n\\nOnly use the following tables:\\n\\nCREATE TABLE customer (\\n\\tcustomerid INTEGER, \\n\\tfirstname TEXT, \\n\\tlastname TEXT, \\n\\tstreetaddress TEXT, \\n\\tcity TEXT, \\n\\tstate TEXT, \\n\\tpostalcode TEXT, \\n\\tcountry TEXT, \\n\\tphone TEXT\\n)\\n\\n/*\\n1 rows from customer table:\\ncustomerid\\tfirstname\\tlastname\\tstreetaddress\\tcity\\tstate\\tpostalcode\\tcountry\\tphone\\n12\\tJames\\tDominick\\t4 Mast Ct\\tPortsmouth\\tVA\\t23703\\tUSA\\t(757) 686-2992\\n*/\\n\\n\\nCREATE TABLE employee (\\n\\temployee_id INTEGER, \\n\\tfirst_name TEXT, \\n\\tlast_name TEXT, \\n\\temail TEXT, \\n\\tphone_number TEXT, \\n\\thire_date TEXT, \\n\\tjob_id TEXT, \\n\\tsalary REAL, \\n\\tmanager_id REAL, \\n\\tdepartment_id INTEGER\\n)\\n\\n/*\\n1 rows from employee table:\\nemployee_id\\tfirst_name\\tlast_name\\temail\\tphone_number\\thire_date\\tjob_id\\tsalary\\tmanager_id\\tdepartment_id\\n100\\tSteven\\tKing\\tsteven.king@example.com\\t515.123.4567\\t2003-06-17\\tAD_PRES\\t24000.0\\tNone\\t90\\n*/\\n\\n\\nCREATE TABLE sale (\\n\\tsaleid INTEGER, \\n\\tsaledate TEXT, \\n\\tcustomerid INTEGER, \\n\\ttax REAL, \\n\\tshipping REAL\\n)\\n\\n/*\\n1 rows from sale table:\\nsaleid\\tsaledate\\tcustomerid\\ttax\\tshipping\\n191228\\t2013-12-31\\t1134\\t0.0\\t44.37\\n*/\\n\\nQuestion: Сколько у нас работников?\\nSQLQuery:\"\n",
      "  ]\n",
      "}\n",
      "\u001b[36;1m\u001b[1;3m[llm/end]\u001b[0m \u001b[1m[chain:RunnableSequence > llm:ChatYandexGPT] [762ms] Exiting LLM run with output:\n",
      "\u001b[0m{\n",
      "  \"generations\": [\n",
      "    [\n",
      "      {\n",
      "        \"text\": \"Question: Сколько у нас работников?\\nSQLQuery: `SELECT COUNT(\\\"employee_id\\\") AS total_employees FROM employee;`\",\n",
      "        \"generation_info\": null,\n",
      "        \"type\": \"ChatGeneration\",\n",
      "        \"message\": {\n",
      "          \"lc\": 1,\n",
      "          \"type\": \"constructor\",\n",
      "          \"id\": [\n",
      "            \"langchain\",\n",
      "            \"schema\",\n",
      "            \"messages\",\n",
      "            \"AIMessage\"\n",
      "          ],\n",
      "          \"kwargs\": {\n",
      "            \"content\": \"Question: Сколько у нас работников?\\nSQLQuery: `SELECT COUNT(\\\"employee_id\\\") AS total_employees FROM employee;`\",\n",
      "            \"type\": \"ai\",\n",
      "            \"id\": \"run--1e4833d1-cb3a-4a0d-b8a7-2c9110163849-0\",\n",
      "            \"tool_calls\": [],\n",
      "            \"invalid_tool_calls\": []\n",
      "          }\n",
      "        }\n",
      "      }\n",
      "    ]\n",
      "  ],\n",
      "  \"llm_output\": null,\n",
      "  \"run\": null,\n",
      "  \"type\": \"LLMResult\"\n",
      "}\n",
      "\u001b[32;1m\u001b[1;3m[chain/start]\u001b[0m \u001b[1m[chain:RunnableSequence > parser:StrOutputParser] Entering Parser run with input:\n",
      "\u001b[0m[inputs]\n",
      "\u001b[36;1m\u001b[1;3m[chain/end]\u001b[0m \u001b[1m[chain:RunnableSequence > parser:StrOutputParser] [0ms] Exiting Parser run with output:\n",
      "\u001b[0m{\n",
      "  \"output\": \"Question: Сколько у нас работников?\\nSQLQuery: `SELECT COUNT(\\\"employee_id\\\") AS total_employees FROM employee;`\"\n",
      "}\n",
      "\u001b[32;1m\u001b[1;3m[chain/start]\u001b[0m \u001b[1m[chain:RunnableSequence > chain:_strip] Entering Chain run with input:\n",
      "\u001b[0m{\n",
      "  \"input\": \"Question: Сколько у нас работников?\\nSQLQuery: `SELECT COUNT(\\\"employee_id\\\") AS total_employees FROM employee;`\"\n",
      "}\n",
      "\u001b[36;1m\u001b[1;3m[chain/end]\u001b[0m \u001b[1m[chain:RunnableSequence > chain:_strip] [0ms] Exiting Chain run with output:\n",
      "\u001b[0m{\n",
      "  \"output\": \"Question: Сколько у нас работников?\\nSQLQuery: `SELECT COUNT(\\\"employee_id\\\") AS total_employees FROM employee;`\"\n",
      "}\n",
      "\u001b[36;1m\u001b[1;3m[chain/end]\u001b[0m \u001b[1m[chain:RunnableSequence] [773ms] Exiting Chain run with output:\n",
      "\u001b[0m{\n",
      "  \"output\": \"Question: Сколько у нас работников?\\nSQLQuery: `SELECT COUNT(\\\"employee_id\\\") AS total_employees FROM employee;`\"\n",
      "}\n"
     ]
    },
    {
     "data": {
      "text/plain": [
       "'Question: Сколько у нас работников?\\nSQLQuery: `SELECT COUNT(\"employee_id\") AS total_employees FROM employee;`'"
      ]
     },
     "execution_count": 21,
     "metadata": {},
     "output_type": "execute_result"
    }
   ],
   "source": [
    "response = chain.invoke({\"question\": \"Сколько у нас работников?\"})\n",
    "response"
   ]
  },
  {
   "cell_type": "code",
   "execution_count": 22,
   "id": "447f0deb-13f2-47d7-b9a7-363ef835f206",
   "metadata": {},
   "outputs": [
    {
     "name": "stdout",
     "output_type": "stream",
     "text": [
      "SELECT COUNT(\"employee_id\") AS total_employees FROM employee;\n"
     ]
    }
   ],
   "source": [
    "index = response.index(\"SQLQuery\")\n",
    "query = response[index+9:].strip(\" `\\n\")\n",
    "print(query)"
   ]
  },
  {
   "cell_type": "code",
   "execution_count": 23,
   "id": "1d66e095",
   "metadata": {},
   "outputs": [
    {
     "data": {
      "text/plain": [
       "'[(11,)]'"
      ]
     },
     "execution_count": 23,
     "metadata": {},
     "output_type": "execute_result"
    }
   ],
   "source": [
    "db.run(query)"
   ]
  },
  {
   "cell_type": "code",
   "execution_count": 24,
   "id": "560739a8-a879-46a1-92ce-822ffbdb5473",
   "metadata": {},
   "outputs": [
    {
     "name": "stdout",
     "output_type": "stream",
     "text": [
      "\u001b[32;1m\u001b[1;3m[chain/start]\u001b[0m \u001b[1m[chain:RunnableSequence] Entering Chain run with input:\n",
      "\u001b[0m{\n",
      "  \"question\": \"Сколько клиентов из Бронкса?\"\n",
      "}\n",
      "\u001b[32;1m\u001b[1;3m[chain/start]\u001b[0m \u001b[1m[chain:RunnableSequence > chain:RunnableAssign<input,table_info>] Entering Chain run with input:\n",
      "\u001b[0m{\n",
      "  \"question\": \"Сколько клиентов из Бронкса?\"\n",
      "}\n",
      "\u001b[32;1m\u001b[1;3m[chain/start]\u001b[0m \u001b[1m[chain:RunnableSequence > chain:RunnableAssign<input,table_info> > chain:RunnableParallel<input,table_info>] Entering Chain run with input:\n",
      "\u001b[0m{\n",
      "  \"question\": \"Сколько клиентов из Бронкса?\"\n",
      "}\n",
      "\u001b[32;1m\u001b[1;3m[chain/start]\u001b[0m \u001b[1m[chain:RunnableSequence > chain:RunnableAssign<input,table_info> > chain:RunnableParallel<input,table_info> > chain:RunnableLambda] Entering Chain run with input:\n",
      "\u001b[0m{\n",
      "  \"question\": \"Сколько клиентов из Бронкса?\"\n",
      "}\n",
      "\u001b[36;1m\u001b[1;3m[chain/end]\u001b[0m \u001b[1m[chain:RunnableSequence > chain:RunnableAssign<input,table_info> > chain:RunnableParallel<input,table_info> > chain:RunnableLambda] [0ms] Exiting Chain run with output:\n",
      "\u001b[0m{\n",
      "  \"output\": \"Сколько клиентов из Бронкса?\\nSQLQuery: \"\n",
      "}\n",
      "\u001b[32;1m\u001b[1;3m[chain/start]\u001b[0m \u001b[1m[chain:RunnableSequence > chain:RunnableAssign<input,table_info> > chain:RunnableParallel<input,table_info> > chain:RunnableLambda] Entering Chain run with input:\n",
      "\u001b[0m{\n",
      "  \"question\": \"Сколько клиентов из Бронкса?\"\n",
      "}\n",
      "\u001b[36;1m\u001b[1;3m[chain/end]\u001b[0m \u001b[1m[chain:RunnableSequence > chain:RunnableAssign<input,table_info> > chain:RunnableParallel<input,table_info> > chain:RunnableLambda] [2ms] Exiting Chain run with output:\n",
      "\u001b[0m{\n",
      "  \"output\": \"\\nCREATE TABLE customer (\\n\\tcustomerid INTEGER, \\n\\tfirstname TEXT, \\n\\tlastname TEXT, \\n\\tstreetaddress TEXT, \\n\\tcity TEXT, \\n\\tstate TEXT, \\n\\tpostalcode TEXT, \\n\\tcountry TEXT, \\n\\tphone TEXT\\n)\\n\\n/*\\n1 rows from customer table:\\ncustomerid\\tfirstname\\tlastname\\tstreetaddress\\tcity\\tstate\\tpostalcode\\tcountry\\tphone\\n12\\tJames\\tDominick\\t4 Mast Ct\\tPortsmouth\\tVA\\t23703\\tUSA\\t(757) 686-2992\\n*/\\n\\n\\nCREATE TABLE employee (\\n\\temployee_id INTEGER, \\n\\tfirst_name TEXT, \\n\\tlast_name TEXT, \\n\\temail TEXT, \\n\\tphone_number TEXT, \\n\\thire_date TEXT, \\n\\tjob_id TEXT, \\n\\tsalary REAL, \\n\\tmanager_id REAL, \\n\\tdepartment_id INTEGER\\n)\\n\\n/*\\n1 rows from employee table:\\nemployee_id\\tfirst_name\\tlast_name\\temail\\tphone_number\\thire_date\\tjob_id\\tsalary\\tmanager_id\\tdepartment_id\\n100\\tSteven\\tKing\\tsteven.king@example.com\\t515.123.4567\\t2003-06-17\\tAD_PRES\\t24000.0\\tNone\\t90\\n*/\\n\\n\\nCREATE TABLE sale (\\n\\tsaleid INTEGER, \\n\\tsaledate TEXT, \\n\\tcustomerid INTEGER, \\n\\ttax REAL, \\n\\tshipping REAL\\n)\\n\\n/*\\n1 rows from sale table:\\nsaleid\\tsaledate\\tcustomerid\\ttax\\tshipping\\n191228\\t2013-12-31\\t1134\\t0.0\\t44.37\\n*/\"\n",
      "}\n",
      "\u001b[36;1m\u001b[1;3m[chain/end]\u001b[0m \u001b[1m[chain:RunnableSequence > chain:RunnableAssign<input,table_info> > chain:RunnableParallel<input,table_info>] [4ms] Exiting Chain run with output:\n",
      "\u001b[0m{\n",
      "  \"input\": \"Сколько клиентов из Бронкса?\\nSQLQuery: \",\n",
      "  \"table_info\": \"\\nCREATE TABLE customer (\\n\\tcustomerid INTEGER, \\n\\tfirstname TEXT, \\n\\tlastname TEXT, \\n\\tstreetaddress TEXT, \\n\\tcity TEXT, \\n\\tstate TEXT, \\n\\tpostalcode TEXT, \\n\\tcountry TEXT, \\n\\tphone TEXT\\n)\\n\\n/*\\n1 rows from customer table:\\ncustomerid\\tfirstname\\tlastname\\tstreetaddress\\tcity\\tstate\\tpostalcode\\tcountry\\tphone\\n12\\tJames\\tDominick\\t4 Mast Ct\\tPortsmouth\\tVA\\t23703\\tUSA\\t(757) 686-2992\\n*/\\n\\n\\nCREATE TABLE employee (\\n\\temployee_id INTEGER, \\n\\tfirst_name TEXT, \\n\\tlast_name TEXT, \\n\\temail TEXT, \\n\\tphone_number TEXT, \\n\\thire_date TEXT, \\n\\tjob_id TEXT, \\n\\tsalary REAL, \\n\\tmanager_id REAL, \\n\\tdepartment_id INTEGER\\n)\\n\\n/*\\n1 rows from employee table:\\nemployee_id\\tfirst_name\\tlast_name\\temail\\tphone_number\\thire_date\\tjob_id\\tsalary\\tmanager_id\\tdepartment_id\\n100\\tSteven\\tKing\\tsteven.king@example.com\\t515.123.4567\\t2003-06-17\\tAD_PRES\\t24000.0\\tNone\\t90\\n*/\\n\\n\\nCREATE TABLE sale (\\n\\tsaleid INTEGER, \\n\\tsaledate TEXT, \\n\\tcustomerid INTEGER, \\n\\ttax REAL, \\n\\tshipping REAL\\n)\\n\\n/*\\n1 rows from sale table:\\nsaleid\\tsaledate\\tcustomerid\\ttax\\tshipping\\n191228\\t2013-12-31\\t1134\\t0.0\\t44.37\\n*/\"\n",
      "}\n",
      "\u001b[36;1m\u001b[1;3m[chain/end]\u001b[0m \u001b[1m[chain:RunnableSequence > chain:RunnableAssign<input,table_info>] [19ms] Exiting Chain run with output:\n",
      "\u001b[0m{\n",
      "  \"question\": \"Сколько клиентов из Бронкса?\",\n",
      "  \"input\": \"Сколько клиентов из Бронкса?\\nSQLQuery: \",\n",
      "  \"table_info\": \"\\nCREATE TABLE customer (\\n\\tcustomerid INTEGER, \\n\\tfirstname TEXT, \\n\\tlastname TEXT, \\n\\tstreetaddress TEXT, \\n\\tcity TEXT, \\n\\tstate TEXT, \\n\\tpostalcode TEXT, \\n\\tcountry TEXT, \\n\\tphone TEXT\\n)\\n\\n/*\\n1 rows from customer table:\\ncustomerid\\tfirstname\\tlastname\\tstreetaddress\\tcity\\tstate\\tpostalcode\\tcountry\\tphone\\n12\\tJames\\tDominick\\t4 Mast Ct\\tPortsmouth\\tVA\\t23703\\tUSA\\t(757) 686-2992\\n*/\\n\\n\\nCREATE TABLE employee (\\n\\temployee_id INTEGER, \\n\\tfirst_name TEXT, \\n\\tlast_name TEXT, \\n\\temail TEXT, \\n\\tphone_number TEXT, \\n\\thire_date TEXT, \\n\\tjob_id TEXT, \\n\\tsalary REAL, \\n\\tmanager_id REAL, \\n\\tdepartment_id INTEGER\\n)\\n\\n/*\\n1 rows from employee table:\\nemployee_id\\tfirst_name\\tlast_name\\temail\\tphone_number\\thire_date\\tjob_id\\tsalary\\tmanager_id\\tdepartment_id\\n100\\tSteven\\tKing\\tsteven.king@example.com\\t515.123.4567\\t2003-06-17\\tAD_PRES\\t24000.0\\tNone\\t90\\n*/\\n\\n\\nCREATE TABLE sale (\\n\\tsaleid INTEGER, \\n\\tsaledate TEXT, \\n\\tcustomerid INTEGER, \\n\\ttax REAL, \\n\\tshipping REAL\\n)\\n\\n/*\\n1 rows from sale table:\\nsaleid\\tsaledate\\tcustomerid\\ttax\\tshipping\\n191228\\t2013-12-31\\t1134\\t0.0\\t44.37\\n*/\"\n",
      "}\n",
      "\u001b[32;1m\u001b[1;3m[chain/start]\u001b[0m \u001b[1m[chain:RunnableSequence > chain:RunnableLambda] Entering Chain run with input:\n",
      "\u001b[0m{\n",
      "  \"question\": \"Сколько клиентов из Бронкса?\",\n",
      "  \"input\": \"Сколько клиентов из Бронкса?\\nSQLQuery: \",\n",
      "  \"table_info\": \"\\nCREATE TABLE customer (\\n\\tcustomerid INTEGER, \\n\\tfirstname TEXT, \\n\\tlastname TEXT, \\n\\tstreetaddress TEXT, \\n\\tcity TEXT, \\n\\tstate TEXT, \\n\\tpostalcode TEXT, \\n\\tcountry TEXT, \\n\\tphone TEXT\\n)\\n\\n/*\\n1 rows from customer table:\\ncustomerid\\tfirstname\\tlastname\\tstreetaddress\\tcity\\tstate\\tpostalcode\\tcountry\\tphone\\n12\\tJames\\tDominick\\t4 Mast Ct\\tPortsmouth\\tVA\\t23703\\tUSA\\t(757) 686-2992\\n*/\\n\\n\\nCREATE TABLE employee (\\n\\temployee_id INTEGER, \\n\\tfirst_name TEXT, \\n\\tlast_name TEXT, \\n\\temail TEXT, \\n\\tphone_number TEXT, \\n\\thire_date TEXT, \\n\\tjob_id TEXT, \\n\\tsalary REAL, \\n\\tmanager_id REAL, \\n\\tdepartment_id INTEGER\\n)\\n\\n/*\\n1 rows from employee table:\\nemployee_id\\tfirst_name\\tlast_name\\temail\\tphone_number\\thire_date\\tjob_id\\tsalary\\tmanager_id\\tdepartment_id\\n100\\tSteven\\tKing\\tsteven.king@example.com\\t515.123.4567\\t2003-06-17\\tAD_PRES\\t24000.0\\tNone\\t90\\n*/\\n\\n\\nCREATE TABLE sale (\\n\\tsaleid INTEGER, \\n\\tsaledate TEXT, \\n\\tcustomerid INTEGER, \\n\\ttax REAL, \\n\\tshipping REAL\\n)\\n\\n/*\\n1 rows from sale table:\\nsaleid\\tsaledate\\tcustomerid\\ttax\\tshipping\\n191228\\t2013-12-31\\t1134\\t0.0\\t44.37\\n*/\"\n",
      "}\n",
      "\u001b[36;1m\u001b[1;3m[chain/end]\u001b[0m \u001b[1m[chain:RunnableSequence > chain:RunnableLambda] [0ms] Exiting Chain run with output:\n",
      "\u001b[0m{\n",
      "  \"input\": \"Сколько клиентов из Бронкса?\\nSQLQuery: \",\n",
      "  \"table_info\": \"\\nCREATE TABLE customer (\\n\\tcustomerid INTEGER, \\n\\tfirstname TEXT, \\n\\tlastname TEXT, \\n\\tstreetaddress TEXT, \\n\\tcity TEXT, \\n\\tstate TEXT, \\n\\tpostalcode TEXT, \\n\\tcountry TEXT, \\n\\tphone TEXT\\n)\\n\\n/*\\n1 rows from customer table:\\ncustomerid\\tfirstname\\tlastname\\tstreetaddress\\tcity\\tstate\\tpostalcode\\tcountry\\tphone\\n12\\tJames\\tDominick\\t4 Mast Ct\\tPortsmouth\\tVA\\t23703\\tUSA\\t(757) 686-2992\\n*/\\n\\n\\nCREATE TABLE employee (\\n\\temployee_id INTEGER, \\n\\tfirst_name TEXT, \\n\\tlast_name TEXT, \\n\\temail TEXT, \\n\\tphone_number TEXT, \\n\\thire_date TEXT, \\n\\tjob_id TEXT, \\n\\tsalary REAL, \\n\\tmanager_id REAL, \\n\\tdepartment_id INTEGER\\n)\\n\\n/*\\n1 rows from employee table:\\nemployee_id\\tfirst_name\\tlast_name\\temail\\tphone_number\\thire_date\\tjob_id\\tsalary\\tmanager_id\\tdepartment_id\\n100\\tSteven\\tKing\\tsteven.king@example.com\\t515.123.4567\\t2003-06-17\\tAD_PRES\\t24000.0\\tNone\\t90\\n*/\\n\\n\\nCREATE TABLE sale (\\n\\tsaleid INTEGER, \\n\\tsaledate TEXT, \\n\\tcustomerid INTEGER, \\n\\ttax REAL, \\n\\tshipping REAL\\n)\\n\\n/*\\n1 rows from sale table:\\nsaleid\\tsaledate\\tcustomerid\\ttax\\tshipping\\n191228\\t2013-12-31\\t1134\\t0.0\\t44.37\\n*/\"\n",
      "}\n",
      "\u001b[32;1m\u001b[1;3m[chain/start]\u001b[0m \u001b[1m[chain:RunnableSequence > prompt:PromptTemplate] Entering Prompt run with input:\n",
      "\u001b[0m{\n",
      "  \"input\": \"Сколько клиентов из Бронкса?\\nSQLQuery: \",\n",
      "  \"table_info\": \"\\nCREATE TABLE customer (\\n\\tcustomerid INTEGER, \\n\\tfirstname TEXT, \\n\\tlastname TEXT, \\n\\tstreetaddress TEXT, \\n\\tcity TEXT, \\n\\tstate TEXT, \\n\\tpostalcode TEXT, \\n\\tcountry TEXT, \\n\\tphone TEXT\\n)\\n\\n/*\\n1 rows from customer table:\\ncustomerid\\tfirstname\\tlastname\\tstreetaddress\\tcity\\tstate\\tpostalcode\\tcountry\\tphone\\n12\\tJames\\tDominick\\t4 Mast Ct\\tPortsmouth\\tVA\\t23703\\tUSA\\t(757) 686-2992\\n*/\\n\\n\\nCREATE TABLE employee (\\n\\temployee_id INTEGER, \\n\\tfirst_name TEXT, \\n\\tlast_name TEXT, \\n\\temail TEXT, \\n\\tphone_number TEXT, \\n\\thire_date TEXT, \\n\\tjob_id TEXT, \\n\\tsalary REAL, \\n\\tmanager_id REAL, \\n\\tdepartment_id INTEGER\\n)\\n\\n/*\\n1 rows from employee table:\\nemployee_id\\tfirst_name\\tlast_name\\temail\\tphone_number\\thire_date\\tjob_id\\tsalary\\tmanager_id\\tdepartment_id\\n100\\tSteven\\tKing\\tsteven.king@example.com\\t515.123.4567\\t2003-06-17\\tAD_PRES\\t24000.0\\tNone\\t90\\n*/\\n\\n\\nCREATE TABLE sale (\\n\\tsaleid INTEGER, \\n\\tsaledate TEXT, \\n\\tcustomerid INTEGER, \\n\\ttax REAL, \\n\\tshipping REAL\\n)\\n\\n/*\\n1 rows from sale table:\\nsaleid\\tsaledate\\tcustomerid\\ttax\\tshipping\\n191228\\t2013-12-31\\t1134\\t0.0\\t44.37\\n*/\"\n",
      "}\n",
      "\u001b[36;1m\u001b[1;3m[chain/end]\u001b[0m \u001b[1m[chain:RunnableSequence > prompt:PromptTemplate] [1ms] Exiting Prompt run with output:\n",
      "\u001b[0m[outputs]\n",
      "\u001b[32;1m\u001b[1;3m[llm/start]\u001b[0m \u001b[1m[chain:RunnableSequence > llm:ChatYandexGPT] Entering LLM run with input:\n",
      "\u001b[0m{\n",
      "  \"prompts\": [\n",
      "    \"Human: You are a SQLite expert. Given an input question, first create a syntactically correct SQLite query to run, then look at the results of the query and return the answer to the input question.\\nUnless the user specifies in the question a specific number of examples to obtain, query for at most 5 results using the LIMIT clause as per SQLite. You can order the results to return the most informative data in the database.\\nNever query for all columns from a table. You must query only the columns that are needed to answer the question. Wrap each column name in double quotes (\\\") to denote them as delimited identifiers.\\nPay attention to use only the column names you can see in the tables below. Be careful to not query for columns that do not exist. Also, pay attention to which column is in which table.\\nPay attention to use date('now') function to get the current date, if the question involves \\\"today\\\".\\n\\nUse the following format:\\n\\nQuestion: Question here\\nSQLQuery: SQL Query to run\\nSQLResult: Result of the SQLQuery\\nAnswer: Final answer here\\n\\nOnly use the following tables:\\n\\nCREATE TABLE customer (\\n\\tcustomerid INTEGER, \\n\\tfirstname TEXT, \\n\\tlastname TEXT, \\n\\tstreetaddress TEXT, \\n\\tcity TEXT, \\n\\tstate TEXT, \\n\\tpostalcode TEXT, \\n\\tcountry TEXT, \\n\\tphone TEXT\\n)\\n\\n/*\\n1 rows from customer table:\\ncustomerid\\tfirstname\\tlastname\\tstreetaddress\\tcity\\tstate\\tpostalcode\\tcountry\\tphone\\n12\\tJames\\tDominick\\t4 Mast Ct\\tPortsmouth\\tVA\\t23703\\tUSA\\t(757) 686-2992\\n*/\\n\\n\\nCREATE TABLE employee (\\n\\temployee_id INTEGER, \\n\\tfirst_name TEXT, \\n\\tlast_name TEXT, \\n\\temail TEXT, \\n\\tphone_number TEXT, \\n\\thire_date TEXT, \\n\\tjob_id TEXT, \\n\\tsalary REAL, \\n\\tmanager_id REAL, \\n\\tdepartment_id INTEGER\\n)\\n\\n/*\\n1 rows from employee table:\\nemployee_id\\tfirst_name\\tlast_name\\temail\\tphone_number\\thire_date\\tjob_id\\tsalary\\tmanager_id\\tdepartment_id\\n100\\tSteven\\tKing\\tsteven.king@example.com\\t515.123.4567\\t2003-06-17\\tAD_PRES\\t24000.0\\tNone\\t90\\n*/\\n\\n\\nCREATE TABLE sale (\\n\\tsaleid INTEGER, \\n\\tsaledate TEXT, \\n\\tcustomerid INTEGER, \\n\\ttax REAL, \\n\\tshipping REAL\\n)\\n\\n/*\\n1 rows from sale table:\\nsaleid\\tsaledate\\tcustomerid\\ttax\\tshipping\\n191228\\t2013-12-31\\t1134\\t0.0\\t44.37\\n*/\\n\\nQuestion: Сколько клиентов из Бронкса?\\nSQLQuery:\"\n",
      "  ]\n",
      "}\n",
      "\u001b[36;1m\u001b[1;3m[llm/end]\u001b[0m \u001b[1m[chain:RunnableSequence > llm:ChatYandexGPT] [551ms] Exiting LLM run with output:\n",
      "\u001b[0m{\n",
      "  \"generations\": [\n",
      "    [\n",
      "      {\n",
      "        \"text\": \"SQLQuery: `SELECT COUNT(DISTINCT \\\"customerid\\\") FROM \\\"customer\\\" WHERE \\\"city\\\" = 'Bronx';`\",\n",
      "        \"generation_info\": null,\n",
      "        \"type\": \"ChatGeneration\",\n",
      "        \"message\": {\n",
      "          \"lc\": 1,\n",
      "          \"type\": \"constructor\",\n",
      "          \"id\": [\n",
      "            \"langchain\",\n",
      "            \"schema\",\n",
      "            \"messages\",\n",
      "            \"AIMessage\"\n",
      "          ],\n",
      "          \"kwargs\": {\n",
      "            \"content\": \"SQLQuery: `SELECT COUNT(DISTINCT \\\"customerid\\\") FROM \\\"customer\\\" WHERE \\\"city\\\" = 'Bronx';`\",\n",
      "            \"type\": \"ai\",\n",
      "            \"id\": \"run--068e549f-4f9f-461d-9f93-132a4a0f261d-0\",\n",
      "            \"tool_calls\": [],\n",
      "            \"invalid_tool_calls\": []\n",
      "          }\n",
      "        }\n",
      "      }\n",
      "    ]\n",
      "  ],\n",
      "  \"llm_output\": null,\n",
      "  \"run\": null,\n",
      "  \"type\": \"LLMResult\"\n",
      "}\n",
      "\u001b[32;1m\u001b[1;3m[chain/start]\u001b[0m \u001b[1m[chain:RunnableSequence > parser:StrOutputParser] Entering Parser run with input:\n",
      "\u001b[0m[inputs]\n",
      "\u001b[36;1m\u001b[1;3m[chain/end]\u001b[0m \u001b[1m[chain:RunnableSequence > parser:StrOutputParser] [0ms] Exiting Parser run with output:\n",
      "\u001b[0m{\n",
      "  \"output\": \"SQLQuery: `SELECT COUNT(DISTINCT \\\"customerid\\\") FROM \\\"customer\\\" WHERE \\\"city\\\" = 'Bronx';`\"\n",
      "}\n",
      "\u001b[32;1m\u001b[1;3m[chain/start]\u001b[0m \u001b[1m[chain:RunnableSequence > chain:_strip] Entering Chain run with input:\n",
      "\u001b[0m{\n",
      "  \"input\": \"SQLQuery: `SELECT COUNT(DISTINCT \\\"customerid\\\") FROM \\\"customer\\\" WHERE \\\"city\\\" = 'Bronx';`\"\n",
      "}\n",
      "\u001b[36;1m\u001b[1;3m[chain/end]\u001b[0m \u001b[1m[chain:RunnableSequence > chain:_strip] [0ms] Exiting Chain run with output:\n",
      "\u001b[0m{\n",
      "  \"output\": \"SQLQuery: `SELECT COUNT(DISTINCT \\\"customerid\\\") FROM \\\"customer\\\" WHERE \\\"city\\\" = 'Bronx';`\"\n",
      "}\n",
      "\u001b[36;1m\u001b[1;3m[chain/end]\u001b[0m \u001b[1m[chain:RunnableSequence] [571ms] Exiting Chain run with output:\n",
      "\u001b[0m{\n",
      "  \"output\": \"SQLQuery: `SELECT COUNT(DISTINCT \\\"customerid\\\") FROM \\\"customer\\\" WHERE \\\"city\\\" = 'Bronx';`\"\n",
      "}\n",
      "SELECT COUNT(DISTINCT \"customerid\") FROM \"customer\" WHERE \"city\" = 'Bronx';\n"
     ]
    }
   ],
   "source": [
    "response = chain.invoke({\"question\": \"Сколько клиентов из Бронкса?\"})\n",
    "index = response.index(\"SQLQuery\")\n",
    "query = response[index+9:].strip(\" `\\n\")\n",
    "print(query)\n",
    "db.run(query)"
   ]
  },
  {
   "cell_type": "code",
   "execution_count": 25,
   "id": "2e688f3a-8a28-431a-abae-48d51f9e3b1c",
   "metadata": {},
   "outputs": [
    {
     "data": {
      "text/plain": [
       "'[(2,)]'"
      ]
     },
     "execution_count": 25,
     "metadata": {},
     "output_type": "execute_result"
    }
   ],
   "source": [
    "db.run(query)"
   ]
  },
  {
   "cell_type": "code",
   "execution_count": 13,
   "id": "b3d18b40",
   "metadata": {},
   "outputs": [
    {
     "name": "stdout",
     "output_type": "stream",
     "text": [
      "```\n",
      "SELECT COUNT(customerid) \n",
      "FROM customer \n",
      "WHERE city = \"Bronx\";\n",
      "```\n",
      "[(2,)]\n"
     ]
    }
   ],
   "source": [
    "response = chain.invoke({\"question\": \"Сколько клиентов из Бронкса (используй английское название)?\"})\n",
    "print(response)\n",
    "print(db.run(response.strip(\"`\\n\")))"
   ]
  },
  {
   "cell_type": "code",
   "execution_count": 26,
   "id": "13a5754c",
   "metadata": {},
   "outputs": [
    {
     "name": "stdout",
     "output_type": "stream",
     "text": [
      "\u001b[32;1m\u001b[1;3m[chain/start]\u001b[0m \u001b[1m[chain:RunnableSequence] Entering Chain run with input:\n",
      "\u001b[0m{\n",
      "  \"question\": \"Из какого штата наибольшее количество клиентов?\"\n",
      "}\n",
      "\u001b[32;1m\u001b[1;3m[chain/start]\u001b[0m \u001b[1m[chain:RunnableSequence > chain:RunnableAssign<input,table_info>] Entering Chain run with input:\n",
      "\u001b[0m{\n",
      "  \"question\": \"Из какого штата наибольшее количество клиентов?\"\n",
      "}\n",
      "\u001b[32;1m\u001b[1;3m[chain/start]\u001b[0m \u001b[1m[chain:RunnableSequence > chain:RunnableAssign<input,table_info> > chain:RunnableParallel<input,table_info>] Entering Chain run with input:\n",
      "\u001b[0m{\n",
      "  \"question\": \"Из какого штата наибольшее количество клиентов?\"\n",
      "}\n",
      "\u001b[32;1m\u001b[1;3m[chain/start]\u001b[0m \u001b[1m[chain:RunnableSequence > chain:RunnableAssign<input,table_info> > chain:RunnableParallel<input,table_info> > chain:RunnableLambda] Entering Chain run with input:\n",
      "\u001b[0m{\n",
      "  \"question\": \"Из какого штата наибольшее количество клиентов?\"\n",
      "}\n",
      "\u001b[36;1m\u001b[1;3m[chain/end]\u001b[0m \u001b[1m[chain:RunnableSequence > chain:RunnableAssign<input,table_info> > chain:RunnableParallel<input,table_info> > chain:RunnableLambda] [0ms] Exiting Chain run with output:\n",
      "\u001b[0m{\n",
      "  \"output\": \"Из какого штата наибольшее количество клиентов?\\nSQLQuery: \"\n",
      "}\n",
      "\u001b[32;1m\u001b[1;3m[chain/start]\u001b[0m \u001b[1m[chain:RunnableSequence > chain:RunnableAssign<input,table_info> > chain:RunnableParallel<input,table_info> > chain:RunnableLambda] Entering Chain run with input:\n",
      "\u001b[0m{\n",
      "  \"question\": \"Из какого штата наибольшее количество клиентов?\"\n",
      "}\n",
      "\u001b[36;1m\u001b[1;3m[chain/end]\u001b[0m \u001b[1m[chain:RunnableSequence > chain:RunnableAssign<input,table_info> > chain:RunnableParallel<input,table_info> > chain:RunnableLambda] [2ms] Exiting Chain run with output:\n",
      "\u001b[0m{\n",
      "  \"output\": \"\\nCREATE TABLE customer (\\n\\tcustomerid INTEGER, \\n\\tfirstname TEXT, \\n\\tlastname TEXT, \\n\\tstreetaddress TEXT, \\n\\tcity TEXT, \\n\\tstate TEXT, \\n\\tpostalcode TEXT, \\n\\tcountry TEXT, \\n\\tphone TEXT\\n)\\n\\n/*\\n1 rows from customer table:\\ncustomerid\\tfirstname\\tlastname\\tstreetaddress\\tcity\\tstate\\tpostalcode\\tcountry\\tphone\\n12\\tJames\\tDominick\\t4 Mast Ct\\tPortsmouth\\tVA\\t23703\\tUSA\\t(757) 686-2992\\n*/\\n\\n\\nCREATE TABLE employee (\\n\\temployee_id INTEGER, \\n\\tfirst_name TEXT, \\n\\tlast_name TEXT, \\n\\temail TEXT, \\n\\tphone_number TEXT, \\n\\thire_date TEXT, \\n\\tjob_id TEXT, \\n\\tsalary REAL, \\n\\tmanager_id REAL, \\n\\tdepartment_id INTEGER\\n)\\n\\n/*\\n1 rows from employee table:\\nemployee_id\\tfirst_name\\tlast_name\\temail\\tphone_number\\thire_date\\tjob_id\\tsalary\\tmanager_id\\tdepartment_id\\n100\\tSteven\\tKing\\tsteven.king@example.com\\t515.123.4567\\t2003-06-17\\tAD_PRES\\t24000.0\\tNone\\t90\\n*/\\n\\n\\nCREATE TABLE sale (\\n\\tsaleid INTEGER, \\n\\tsaledate TEXT, \\n\\tcustomerid INTEGER, \\n\\ttax REAL, \\n\\tshipping REAL\\n)\\n\\n/*\\n1 rows from sale table:\\nsaleid\\tsaledate\\tcustomerid\\ttax\\tshipping\\n191228\\t2013-12-31\\t1134\\t0.0\\t44.37\\n*/\"\n",
      "}\n",
      "\u001b[36;1m\u001b[1;3m[chain/end]\u001b[0m \u001b[1m[chain:RunnableSequence > chain:RunnableAssign<input,table_info> > chain:RunnableParallel<input,table_info>] [8ms] Exiting Chain run with output:\n",
      "\u001b[0m{\n",
      "  \"input\": \"Из какого штата наибольшее количество клиентов?\\nSQLQuery: \",\n",
      "  \"table_info\": \"\\nCREATE TABLE customer (\\n\\tcustomerid INTEGER, \\n\\tfirstname TEXT, \\n\\tlastname TEXT, \\n\\tstreetaddress TEXT, \\n\\tcity TEXT, \\n\\tstate TEXT, \\n\\tpostalcode TEXT, \\n\\tcountry TEXT, \\n\\tphone TEXT\\n)\\n\\n/*\\n1 rows from customer table:\\ncustomerid\\tfirstname\\tlastname\\tstreetaddress\\tcity\\tstate\\tpostalcode\\tcountry\\tphone\\n12\\tJames\\tDominick\\t4 Mast Ct\\tPortsmouth\\tVA\\t23703\\tUSA\\t(757) 686-2992\\n*/\\n\\n\\nCREATE TABLE employee (\\n\\temployee_id INTEGER, \\n\\tfirst_name TEXT, \\n\\tlast_name TEXT, \\n\\temail TEXT, \\n\\tphone_number TEXT, \\n\\thire_date TEXT, \\n\\tjob_id TEXT, \\n\\tsalary REAL, \\n\\tmanager_id REAL, \\n\\tdepartment_id INTEGER\\n)\\n\\n/*\\n1 rows from employee table:\\nemployee_id\\tfirst_name\\tlast_name\\temail\\tphone_number\\thire_date\\tjob_id\\tsalary\\tmanager_id\\tdepartment_id\\n100\\tSteven\\tKing\\tsteven.king@example.com\\t515.123.4567\\t2003-06-17\\tAD_PRES\\t24000.0\\tNone\\t90\\n*/\\n\\n\\nCREATE TABLE sale (\\n\\tsaleid INTEGER, \\n\\tsaledate TEXT, \\n\\tcustomerid INTEGER, \\n\\ttax REAL, \\n\\tshipping REAL\\n)\\n\\n/*\\n1 rows from sale table:\\nsaleid\\tsaledate\\tcustomerid\\ttax\\tshipping\\n191228\\t2013-12-31\\t1134\\t0.0\\t44.37\\n*/\"\n",
      "}\n",
      "\u001b[36;1m\u001b[1;3m[chain/end]\u001b[0m \u001b[1m[chain:RunnableSequence > chain:RunnableAssign<input,table_info>] [8ms] Exiting Chain run with output:\n",
      "\u001b[0m{\n",
      "  \"question\": \"Из какого штата наибольшее количество клиентов?\",\n",
      "  \"input\": \"Из какого штата наибольшее количество клиентов?\\nSQLQuery: \",\n",
      "  \"table_info\": \"\\nCREATE TABLE customer (\\n\\tcustomerid INTEGER, \\n\\tfirstname TEXT, \\n\\tlastname TEXT, \\n\\tstreetaddress TEXT, \\n\\tcity TEXT, \\n\\tstate TEXT, \\n\\tpostalcode TEXT, \\n\\tcountry TEXT, \\n\\tphone TEXT\\n)\\n\\n/*\\n1 rows from customer table:\\ncustomerid\\tfirstname\\tlastname\\tstreetaddress\\tcity\\tstate\\tpostalcode\\tcountry\\tphone\\n12\\tJames\\tDominick\\t4 Mast Ct\\tPortsmouth\\tVA\\t23703\\tUSA\\t(757) 686-2992\\n*/\\n\\n\\nCREATE TABLE employee (\\n\\temployee_id INTEGER, \\n\\tfirst_name TEXT, \\n\\tlast_name TEXT, \\n\\temail TEXT, \\n\\tphone_number TEXT, \\n\\thire_date TEXT, \\n\\tjob_id TEXT, \\n\\tsalary REAL, \\n\\tmanager_id REAL, \\n\\tdepartment_id INTEGER\\n)\\n\\n/*\\n1 rows from employee table:\\nemployee_id\\tfirst_name\\tlast_name\\temail\\tphone_number\\thire_date\\tjob_id\\tsalary\\tmanager_id\\tdepartment_id\\n100\\tSteven\\tKing\\tsteven.king@example.com\\t515.123.4567\\t2003-06-17\\tAD_PRES\\t24000.0\\tNone\\t90\\n*/\\n\\n\\nCREATE TABLE sale (\\n\\tsaleid INTEGER, \\n\\tsaledate TEXT, \\n\\tcustomerid INTEGER, \\n\\ttax REAL, \\n\\tshipping REAL\\n)\\n\\n/*\\n1 rows from sale table:\\nsaleid\\tsaledate\\tcustomerid\\ttax\\tshipping\\n191228\\t2013-12-31\\t1134\\t0.0\\t44.37\\n*/\"\n",
      "}\n",
      "\u001b[32;1m\u001b[1;3m[chain/start]\u001b[0m \u001b[1m[chain:RunnableSequence > chain:RunnableLambda] Entering Chain run with input:\n",
      "\u001b[0m{\n",
      "  \"question\": \"Из какого штата наибольшее количество клиентов?\",\n",
      "  \"input\": \"Из какого штата наибольшее количество клиентов?\\nSQLQuery: \",\n",
      "  \"table_info\": \"\\nCREATE TABLE customer (\\n\\tcustomerid INTEGER, \\n\\tfirstname TEXT, \\n\\tlastname TEXT, \\n\\tstreetaddress TEXT, \\n\\tcity TEXT, \\n\\tstate TEXT, \\n\\tpostalcode TEXT, \\n\\tcountry TEXT, \\n\\tphone TEXT\\n)\\n\\n/*\\n1 rows from customer table:\\ncustomerid\\tfirstname\\tlastname\\tstreetaddress\\tcity\\tstate\\tpostalcode\\tcountry\\tphone\\n12\\tJames\\tDominick\\t4 Mast Ct\\tPortsmouth\\tVA\\t23703\\tUSA\\t(757) 686-2992\\n*/\\n\\n\\nCREATE TABLE employee (\\n\\temployee_id INTEGER, \\n\\tfirst_name TEXT, \\n\\tlast_name TEXT, \\n\\temail TEXT, \\n\\tphone_number TEXT, \\n\\thire_date TEXT, \\n\\tjob_id TEXT, \\n\\tsalary REAL, \\n\\tmanager_id REAL, \\n\\tdepartment_id INTEGER\\n)\\n\\n/*\\n1 rows from employee table:\\nemployee_id\\tfirst_name\\tlast_name\\temail\\tphone_number\\thire_date\\tjob_id\\tsalary\\tmanager_id\\tdepartment_id\\n100\\tSteven\\tKing\\tsteven.king@example.com\\t515.123.4567\\t2003-06-17\\tAD_PRES\\t24000.0\\tNone\\t90\\n*/\\n\\n\\nCREATE TABLE sale (\\n\\tsaleid INTEGER, \\n\\tsaledate TEXT, \\n\\tcustomerid INTEGER, \\n\\ttax REAL, \\n\\tshipping REAL\\n)\\n\\n/*\\n1 rows from sale table:\\nsaleid\\tsaledate\\tcustomerid\\ttax\\tshipping\\n191228\\t2013-12-31\\t1134\\t0.0\\t44.37\\n*/\"\n",
      "}\n",
      "\u001b[36;1m\u001b[1;3m[chain/end]\u001b[0m \u001b[1m[chain:RunnableSequence > chain:RunnableLambda] [1ms] Exiting Chain run with output:\n",
      "\u001b[0m{\n",
      "  \"input\": \"Из какого штата наибольшее количество клиентов?\\nSQLQuery: \",\n",
      "  \"table_info\": \"\\nCREATE TABLE customer (\\n\\tcustomerid INTEGER, \\n\\tfirstname TEXT, \\n\\tlastname TEXT, \\n\\tstreetaddress TEXT, \\n\\tcity TEXT, \\n\\tstate TEXT, \\n\\tpostalcode TEXT, \\n\\tcountry TEXT, \\n\\tphone TEXT\\n)\\n\\n/*\\n1 rows from customer table:\\ncustomerid\\tfirstname\\tlastname\\tstreetaddress\\tcity\\tstate\\tpostalcode\\tcountry\\tphone\\n12\\tJames\\tDominick\\t4 Mast Ct\\tPortsmouth\\tVA\\t23703\\tUSA\\t(757) 686-2992\\n*/\\n\\n\\nCREATE TABLE employee (\\n\\temployee_id INTEGER, \\n\\tfirst_name TEXT, \\n\\tlast_name TEXT, \\n\\temail TEXT, \\n\\tphone_number TEXT, \\n\\thire_date TEXT, \\n\\tjob_id TEXT, \\n\\tsalary REAL, \\n\\tmanager_id REAL, \\n\\tdepartment_id INTEGER\\n)\\n\\n/*\\n1 rows from employee table:\\nemployee_id\\tfirst_name\\tlast_name\\temail\\tphone_number\\thire_date\\tjob_id\\tsalary\\tmanager_id\\tdepartment_id\\n100\\tSteven\\tKing\\tsteven.king@example.com\\t515.123.4567\\t2003-06-17\\tAD_PRES\\t24000.0\\tNone\\t90\\n*/\\n\\n\\nCREATE TABLE sale (\\n\\tsaleid INTEGER, \\n\\tsaledate TEXT, \\n\\tcustomerid INTEGER, \\n\\ttax REAL, \\n\\tshipping REAL\\n)\\n\\n/*\\n1 rows from sale table:\\nsaleid\\tsaledate\\tcustomerid\\ttax\\tshipping\\n191228\\t2013-12-31\\t1134\\t0.0\\t44.37\\n*/\"\n",
      "}\n",
      "\u001b[32;1m\u001b[1;3m[chain/start]\u001b[0m \u001b[1m[chain:RunnableSequence > prompt:PromptTemplate] Entering Prompt run with input:\n",
      "\u001b[0m{\n",
      "  \"input\": \"Из какого штата наибольшее количество клиентов?\\nSQLQuery: \",\n",
      "  \"table_info\": \"\\nCREATE TABLE customer (\\n\\tcustomerid INTEGER, \\n\\tfirstname TEXT, \\n\\tlastname TEXT, \\n\\tstreetaddress TEXT, \\n\\tcity TEXT, \\n\\tstate TEXT, \\n\\tpostalcode TEXT, \\n\\tcountry TEXT, \\n\\tphone TEXT\\n)\\n\\n/*\\n1 rows from customer table:\\ncustomerid\\tfirstname\\tlastname\\tstreetaddress\\tcity\\tstate\\tpostalcode\\tcountry\\tphone\\n12\\tJames\\tDominick\\t4 Mast Ct\\tPortsmouth\\tVA\\t23703\\tUSA\\t(757) 686-2992\\n*/\\n\\n\\nCREATE TABLE employee (\\n\\temployee_id INTEGER, \\n\\tfirst_name TEXT, \\n\\tlast_name TEXT, \\n\\temail TEXT, \\n\\tphone_number TEXT, \\n\\thire_date TEXT, \\n\\tjob_id TEXT, \\n\\tsalary REAL, \\n\\tmanager_id REAL, \\n\\tdepartment_id INTEGER\\n)\\n\\n/*\\n1 rows from employee table:\\nemployee_id\\tfirst_name\\tlast_name\\temail\\tphone_number\\thire_date\\tjob_id\\tsalary\\tmanager_id\\tdepartment_id\\n100\\tSteven\\tKing\\tsteven.king@example.com\\t515.123.4567\\t2003-06-17\\tAD_PRES\\t24000.0\\tNone\\t90\\n*/\\n\\n\\nCREATE TABLE sale (\\n\\tsaleid INTEGER, \\n\\tsaledate TEXT, \\n\\tcustomerid INTEGER, \\n\\ttax REAL, \\n\\tshipping REAL\\n)\\n\\n/*\\n1 rows from sale table:\\nsaleid\\tsaledate\\tcustomerid\\ttax\\tshipping\\n191228\\t2013-12-31\\t1134\\t0.0\\t44.37\\n*/\"\n",
      "}\n",
      "\u001b[36;1m\u001b[1;3m[chain/end]\u001b[0m \u001b[1m[chain:RunnableSequence > prompt:PromptTemplate] [0ms] Exiting Prompt run with output:\n",
      "\u001b[0m[outputs]\n",
      "\u001b[32;1m\u001b[1;3m[llm/start]\u001b[0m \u001b[1m[chain:RunnableSequence > llm:ChatYandexGPT] Entering LLM run with input:\n",
      "\u001b[0m{\n",
      "  \"prompts\": [\n",
      "    \"Human: You are a SQLite expert. Given an input question, first create a syntactically correct SQLite query to run, then look at the results of the query and return the answer to the input question.\\nUnless the user specifies in the question a specific number of examples to obtain, query for at most 5 results using the LIMIT clause as per SQLite. You can order the results to return the most informative data in the database.\\nNever query for all columns from a table. You must query only the columns that are needed to answer the question. Wrap each column name in double quotes (\\\") to denote them as delimited identifiers.\\nPay attention to use only the column names you can see in the tables below. Be careful to not query for columns that do not exist. Also, pay attention to which column is in which table.\\nPay attention to use date('now') function to get the current date, if the question involves \\\"today\\\".\\n\\nUse the following format:\\n\\nQuestion: Question here\\nSQLQuery: SQL Query to run\\nSQLResult: Result of the SQLQuery\\nAnswer: Final answer here\\n\\nOnly use the following tables:\\n\\nCREATE TABLE customer (\\n\\tcustomerid INTEGER, \\n\\tfirstname TEXT, \\n\\tlastname TEXT, \\n\\tstreetaddress TEXT, \\n\\tcity TEXT, \\n\\tstate TEXT, \\n\\tpostalcode TEXT, \\n\\tcountry TEXT, \\n\\tphone TEXT\\n)\\n\\n/*\\n1 rows from customer table:\\ncustomerid\\tfirstname\\tlastname\\tstreetaddress\\tcity\\tstate\\tpostalcode\\tcountry\\tphone\\n12\\tJames\\tDominick\\t4 Mast Ct\\tPortsmouth\\tVA\\t23703\\tUSA\\t(757) 686-2992\\n*/\\n\\n\\nCREATE TABLE employee (\\n\\temployee_id INTEGER, \\n\\tfirst_name TEXT, \\n\\tlast_name TEXT, \\n\\temail TEXT, \\n\\tphone_number TEXT, \\n\\thire_date TEXT, \\n\\tjob_id TEXT, \\n\\tsalary REAL, \\n\\tmanager_id REAL, \\n\\tdepartment_id INTEGER\\n)\\n\\n/*\\n1 rows from employee table:\\nemployee_id\\tfirst_name\\tlast_name\\temail\\tphone_number\\thire_date\\tjob_id\\tsalary\\tmanager_id\\tdepartment_id\\n100\\tSteven\\tKing\\tsteven.king@example.com\\t515.123.4567\\t2003-06-17\\tAD_PRES\\t24000.0\\tNone\\t90\\n*/\\n\\n\\nCREATE TABLE sale (\\n\\tsaleid INTEGER, \\n\\tsaledate TEXT, \\n\\tcustomerid INTEGER, \\n\\ttax REAL, \\n\\tshipping REAL\\n)\\n\\n/*\\n1 rows from sale table:\\nsaleid\\tsaledate\\tcustomerid\\ttax\\tshipping\\n191228\\t2013-12-31\\t1134\\t0.0\\t44.37\\n*/\\n\\nQuestion: Из какого штата наибольшее количество клиентов?\\nSQLQuery:\"\n",
      "  ]\n",
      "}\n",
      "\u001b[36;1m\u001b[1;3m[llm/end]\u001b[0m \u001b[1m[chain:RunnableSequence > llm:ChatYandexGPT] [629ms] Exiting LLM run with output:\n",
      "\u001b[0m{\n",
      "  \"generations\": [\n",
      "    [\n",
      "      {\n",
      "        \"text\": \"```\\nSELECT \\\"state\\\", COUNT(*) AS \\\"count\\\"\\nFROM \\\"customer\\\"\\nGROUP BY \\\"state\\\"\\nORDER BY \\\"count\\\" DESC\\nLIMIT 1;\\n```\",\n",
      "        \"generation_info\": null,\n",
      "        \"type\": \"ChatGeneration\",\n",
      "        \"message\": {\n",
      "          \"lc\": 1,\n",
      "          \"type\": \"constructor\",\n",
      "          \"id\": [\n",
      "            \"langchain\",\n",
      "            \"schema\",\n",
      "            \"messages\",\n",
      "            \"AIMessage\"\n",
      "          ],\n",
      "          \"kwargs\": {\n",
      "            \"content\": \"```\\nSELECT \\\"state\\\", COUNT(*) AS \\\"count\\\"\\nFROM \\\"customer\\\"\\nGROUP BY \\\"state\\\"\\nORDER BY \\\"count\\\" DESC\\nLIMIT 1;\\n```\",\n",
      "            \"type\": \"ai\",\n",
      "            \"id\": \"run--187fa865-1176-4e10-872d-4b6bd66c6116-0\",\n",
      "            \"tool_calls\": [],\n",
      "            \"invalid_tool_calls\": []\n",
      "          }\n",
      "        }\n",
      "      }\n",
      "    ]\n",
      "  ],\n",
      "  \"llm_output\": null,\n",
      "  \"run\": null,\n",
      "  \"type\": \"LLMResult\"\n",
      "}\n",
      "\u001b[32;1m\u001b[1;3m[chain/start]\u001b[0m \u001b[1m[chain:RunnableSequence > parser:StrOutputParser] Entering Parser run with input:\n",
      "\u001b[0m[inputs]\n",
      "\u001b[36;1m\u001b[1;3m[chain/end]\u001b[0m \u001b[1m[chain:RunnableSequence > parser:StrOutputParser] [0ms] Exiting Parser run with output:\n",
      "\u001b[0m{\n",
      "  \"output\": \"```\\nSELECT \\\"state\\\", COUNT(*) AS \\\"count\\\"\\nFROM \\\"customer\\\"\\nGROUP BY \\\"state\\\"\\nORDER BY \\\"count\\\" DESC\\nLIMIT 1;\\n```\"\n",
      "}\n",
      "\u001b[32;1m\u001b[1;3m[chain/start]\u001b[0m \u001b[1m[chain:RunnableSequence > chain:_strip] Entering Chain run with input:\n",
      "\u001b[0m{\n",
      "  \"input\": \"```\\nSELECT \\\"state\\\", COUNT(*) AS \\\"count\\\"\\nFROM \\\"customer\\\"\\nGROUP BY \\\"state\\\"\\nORDER BY \\\"count\\\" DESC\\nLIMIT 1;\\n```\"\n",
      "}\n",
      "\u001b[36;1m\u001b[1;3m[chain/end]\u001b[0m \u001b[1m[chain:RunnableSequence > chain:_strip] [0ms] Exiting Chain run with output:\n",
      "\u001b[0m{\n",
      "  \"output\": \"```\\nSELECT \\\"state\\\", COUNT(*) AS \\\"count\\\"\\nFROM \\\"customer\\\"\\nGROUP BY \\\"state\\\"\\nORDER BY \\\"count\\\" DESC\\nLIMIT 1;\\n```\"\n",
      "}\n",
      "\u001b[36;1m\u001b[1;3m[chain/end]\u001b[0m \u001b[1m[chain:RunnableSequence] [638ms] Exiting Chain run with output:\n",
      "\u001b[0m{\n",
      "  \"output\": \"```\\nSELECT \\\"state\\\", COUNT(*) AS \\\"count\\\"\\nFROM \\\"customer\\\"\\nGROUP BY \\\"state\\\"\\nORDER BY \\\"count\\\" DESC\\nLIMIT 1;\\n```\"\n",
      "}\n"
     ]
    },
    {
     "ename": "ValueError",
     "evalue": "substring not found",
     "output_type": "error",
     "traceback": [
      "\u001b[1;31m---------------------------------------------------------------------------\u001b[0m",
      "\u001b[1;31mValueError\u001b[0m                                Traceback (most recent call last)",
      "Cell \u001b[1;32mIn[26], line 2\u001b[0m\n\u001b[0;32m      1\u001b[0m response \u001b[38;5;241m=\u001b[39m chain\u001b[38;5;241m.\u001b[39minvoke({\u001b[38;5;124m\"\u001b[39m\u001b[38;5;124mquestion\u001b[39m\u001b[38;5;124m\"\u001b[39m: \u001b[38;5;124m\"\u001b[39m\u001b[38;5;124mИз какого штата наибольшее количество клиентов?\u001b[39m\u001b[38;5;124m\"\u001b[39m})\n\u001b[1;32m----> 2\u001b[0m index \u001b[38;5;241m=\u001b[39m \u001b[43mresponse\u001b[49m\u001b[38;5;241;43m.\u001b[39;49m\u001b[43mindex\u001b[49m\u001b[43m(\u001b[49m\u001b[38;5;124;43m\"\u001b[39;49m\u001b[38;5;124;43mSQLQuery\u001b[39;49m\u001b[38;5;124;43m\"\u001b[39;49m\u001b[43m)\u001b[49m\n\u001b[0;32m      3\u001b[0m query \u001b[38;5;241m=\u001b[39m response[index\u001b[38;5;241m+\u001b[39m\u001b[38;5;241m9\u001b[39m:]\u001b[38;5;241m.\u001b[39mstrip(\u001b[38;5;124m\"\u001b[39m\u001b[38;5;124m `\u001b[39m\u001b[38;5;130;01m\\n\u001b[39;00m\u001b[38;5;124m\"\u001b[39m)\n\u001b[0;32m      4\u001b[0m \u001b[38;5;28mprint\u001b[39m(query)\n",
      "\u001b[1;31mValueError\u001b[0m: substring not found"
     ]
    }
   ],
   "source": [
    "response = chain.invoke({\"question\": \"Из какого штата наибольшее количество клиентов?\"})\n",
    "index = response.index(\"SQLQuery\")\n",
    "query = response[index+9:].strip(\" `\\n\")\n",
    "print(query)"
   ]
  },
  {
   "cell_type": "code",
   "execution_count": 27,
   "id": "c293f9d4",
   "metadata": {},
   "outputs": [
    {
     "name": "stdout",
     "output_type": "stream",
     "text": [
      "\u001b[32;1m\u001b[1;3m[chain/start]\u001b[0m \u001b[1m[chain:RunnableSequence] Entering Chain run with input:\n",
      "\u001b[0m{\n",
      "  \"question\": \"Найди мне топ 5 клиентов, заплативших наибольшую стоимость пересылки\"\n",
      "}\n",
      "\u001b[32;1m\u001b[1;3m[chain/start]\u001b[0m \u001b[1m[chain:RunnableSequence > chain:RunnableAssign<input,table_info>] Entering Chain run with input:\n",
      "\u001b[0m{\n",
      "  \"question\": \"Найди мне топ 5 клиентов, заплативших наибольшую стоимость пересылки\"\n",
      "}\n",
      "\u001b[32;1m\u001b[1;3m[chain/start]\u001b[0m \u001b[1m[chain:RunnableSequence > chain:RunnableAssign<input,table_info> > chain:RunnableParallel<input,table_info>] Entering Chain run with input:\n",
      "\u001b[0m{\n",
      "  \"question\": \"Найди мне топ 5 клиентов, заплативших наибольшую стоимость пересылки\"\n",
      "}\n",
      "\u001b[32;1m\u001b[1;3m[chain/start]\u001b[0m \u001b[1m[chain:RunnableSequence > chain:RunnableAssign<input,table_info> > chain:RunnableParallel<input,table_info> > chain:RunnableLambda] Entering Chain run with input:\n",
      "\u001b[0m{\n",
      "  \"question\": \"Найди мне топ 5 клиентов, заплативших наибольшую стоимость пересылки\"\n",
      "}\n",
      "\u001b[36;1m\u001b[1;3m[chain/end]\u001b[0m \u001b[1m[chain:RunnableSequence > chain:RunnableAssign<input,table_info> > chain:RunnableParallel<input,table_info> > chain:RunnableLambda] [0ms] Exiting Chain run with output:\n",
      "\u001b[0m{\n",
      "  \"output\": \"Найди мне топ 5 клиентов, заплативших наибольшую стоимость пересылки\\nSQLQuery: \"\n",
      "}\n",
      "\u001b[32;1m\u001b[1;3m[chain/start]\u001b[0m \u001b[1m[chain:RunnableSequence > chain:RunnableAssign<input,table_info> > chain:RunnableParallel<input,table_info> > chain:RunnableLambda] Entering Chain run with input:\n",
      "\u001b[0m{\n",
      "  \"question\": \"Найди мне топ 5 клиентов, заплативших наибольшую стоимость пересылки\"\n",
      "}\n",
      "\u001b[36;1m\u001b[1;3m[chain/end]\u001b[0m \u001b[1m[chain:RunnableSequence > chain:RunnableAssign<input,table_info> > chain:RunnableParallel<input,table_info> > chain:RunnableLambda] [1ms] Exiting Chain run with output:\n",
      "\u001b[0m{\n",
      "  \"output\": \"\\nCREATE TABLE customer (\\n\\tcustomerid INTEGER, \\n\\tfirstname TEXT, \\n\\tlastname TEXT, \\n\\tstreetaddress TEXT, \\n\\tcity TEXT, \\n\\tstate TEXT, \\n\\tpostalcode TEXT, \\n\\tcountry TEXT, \\n\\tphone TEXT\\n)\\n\\n/*\\n1 rows from customer table:\\ncustomerid\\tfirstname\\tlastname\\tstreetaddress\\tcity\\tstate\\tpostalcode\\tcountry\\tphone\\n12\\tJames\\tDominick\\t4 Mast Ct\\tPortsmouth\\tVA\\t23703\\tUSA\\t(757) 686-2992\\n*/\\n\\n\\nCREATE TABLE employee (\\n\\temployee_id INTEGER, \\n\\tfirst_name TEXT, \\n\\tlast_name TEXT, \\n\\temail TEXT, \\n\\tphone_number TEXT, \\n\\thire_date TEXT, \\n\\tjob_id TEXT, \\n\\tsalary REAL, \\n\\tmanager_id REAL, \\n\\tdepartment_id INTEGER\\n)\\n\\n/*\\n1 rows from employee table:\\nemployee_id\\tfirst_name\\tlast_name\\temail\\tphone_number\\thire_date\\tjob_id\\tsalary\\tmanager_id\\tdepartment_id\\n100\\tSteven\\tKing\\tsteven.king@example.com\\t515.123.4567\\t2003-06-17\\tAD_PRES\\t24000.0\\tNone\\t90\\n*/\\n\\n\\nCREATE TABLE sale (\\n\\tsaleid INTEGER, \\n\\tsaledate TEXT, \\n\\tcustomerid INTEGER, \\n\\ttax REAL, \\n\\tshipping REAL\\n)\\n\\n/*\\n1 rows from sale table:\\nsaleid\\tsaledate\\tcustomerid\\ttax\\tshipping\\n191228\\t2013-12-31\\t1134\\t0.0\\t44.37\\n*/\"\n",
      "}\n",
      "\u001b[36;1m\u001b[1;3m[chain/end]\u001b[0m \u001b[1m[chain:RunnableSequence > chain:RunnableAssign<input,table_info> > chain:RunnableParallel<input,table_info>] [3ms] Exiting Chain run with output:\n",
      "\u001b[0m{\n",
      "  \"input\": \"Найди мне топ 5 клиентов, заплативших наибольшую стоимость пересылки\\nSQLQuery: \",\n",
      "  \"table_info\": \"\\nCREATE TABLE customer (\\n\\tcustomerid INTEGER, \\n\\tfirstname TEXT, \\n\\tlastname TEXT, \\n\\tstreetaddress TEXT, \\n\\tcity TEXT, \\n\\tstate TEXT, \\n\\tpostalcode TEXT, \\n\\tcountry TEXT, \\n\\tphone TEXT\\n)\\n\\n/*\\n1 rows from customer table:\\ncustomerid\\tfirstname\\tlastname\\tstreetaddress\\tcity\\tstate\\tpostalcode\\tcountry\\tphone\\n12\\tJames\\tDominick\\t4 Mast Ct\\tPortsmouth\\tVA\\t23703\\tUSA\\t(757) 686-2992\\n*/\\n\\n\\nCREATE TABLE employee (\\n\\temployee_id INTEGER, \\n\\tfirst_name TEXT, \\n\\tlast_name TEXT, \\n\\temail TEXT, \\n\\tphone_number TEXT, \\n\\thire_date TEXT, \\n\\tjob_id TEXT, \\n\\tsalary REAL, \\n\\tmanager_id REAL, \\n\\tdepartment_id INTEGER\\n)\\n\\n/*\\n1 rows from employee table:\\nemployee_id\\tfirst_name\\tlast_name\\temail\\tphone_number\\thire_date\\tjob_id\\tsalary\\tmanager_id\\tdepartment_id\\n100\\tSteven\\tKing\\tsteven.king@example.com\\t515.123.4567\\t2003-06-17\\tAD_PRES\\t24000.0\\tNone\\t90\\n*/\\n\\n\\nCREATE TABLE sale (\\n\\tsaleid INTEGER, \\n\\tsaledate TEXT, \\n\\tcustomerid INTEGER, \\n\\ttax REAL, \\n\\tshipping REAL\\n)\\n\\n/*\\n1 rows from sale table:\\nsaleid\\tsaledate\\tcustomerid\\ttax\\tshipping\\n191228\\t2013-12-31\\t1134\\t0.0\\t44.37\\n*/\"\n",
      "}\n",
      "\u001b[36;1m\u001b[1;3m[chain/end]\u001b[0m \u001b[1m[chain:RunnableSequence > chain:RunnableAssign<input,table_info>] [3ms] Exiting Chain run with output:\n",
      "\u001b[0m{\n",
      "  \"question\": \"Найди мне топ 5 клиентов, заплативших наибольшую стоимость пересылки\",\n",
      "  \"input\": \"Найди мне топ 5 клиентов, заплативших наибольшую стоимость пересылки\\nSQLQuery: \",\n",
      "  \"table_info\": \"\\nCREATE TABLE customer (\\n\\tcustomerid INTEGER, \\n\\tfirstname TEXT, \\n\\tlastname TEXT, \\n\\tstreetaddress TEXT, \\n\\tcity TEXT, \\n\\tstate TEXT, \\n\\tpostalcode TEXT, \\n\\tcountry TEXT, \\n\\tphone TEXT\\n)\\n\\n/*\\n1 rows from customer table:\\ncustomerid\\tfirstname\\tlastname\\tstreetaddress\\tcity\\tstate\\tpostalcode\\tcountry\\tphone\\n12\\tJames\\tDominick\\t4 Mast Ct\\tPortsmouth\\tVA\\t23703\\tUSA\\t(757) 686-2992\\n*/\\n\\n\\nCREATE TABLE employee (\\n\\temployee_id INTEGER, \\n\\tfirst_name TEXT, \\n\\tlast_name TEXT, \\n\\temail TEXT, \\n\\tphone_number TEXT, \\n\\thire_date TEXT, \\n\\tjob_id TEXT, \\n\\tsalary REAL, \\n\\tmanager_id REAL, \\n\\tdepartment_id INTEGER\\n)\\n\\n/*\\n1 rows from employee table:\\nemployee_id\\tfirst_name\\tlast_name\\temail\\tphone_number\\thire_date\\tjob_id\\tsalary\\tmanager_id\\tdepartment_id\\n100\\tSteven\\tKing\\tsteven.king@example.com\\t515.123.4567\\t2003-06-17\\tAD_PRES\\t24000.0\\tNone\\t90\\n*/\\n\\n\\nCREATE TABLE sale (\\n\\tsaleid INTEGER, \\n\\tsaledate TEXT, \\n\\tcustomerid INTEGER, \\n\\ttax REAL, \\n\\tshipping REAL\\n)\\n\\n/*\\n1 rows from sale table:\\nsaleid\\tsaledate\\tcustomerid\\ttax\\tshipping\\n191228\\t2013-12-31\\t1134\\t0.0\\t44.37\\n*/\"\n",
      "}\n",
      "\u001b[32;1m\u001b[1;3m[chain/start]\u001b[0m \u001b[1m[chain:RunnableSequence > chain:RunnableLambda] Entering Chain run with input:\n",
      "\u001b[0m{\n",
      "  \"question\": \"Найди мне топ 5 клиентов, заплативших наибольшую стоимость пересылки\",\n",
      "  \"input\": \"Найди мне топ 5 клиентов, заплативших наибольшую стоимость пересылки\\nSQLQuery: \",\n",
      "  \"table_info\": \"\\nCREATE TABLE customer (\\n\\tcustomerid INTEGER, \\n\\tfirstname TEXT, \\n\\tlastname TEXT, \\n\\tstreetaddress TEXT, \\n\\tcity TEXT, \\n\\tstate TEXT, \\n\\tpostalcode TEXT, \\n\\tcountry TEXT, \\n\\tphone TEXT\\n)\\n\\n/*\\n1 rows from customer table:\\ncustomerid\\tfirstname\\tlastname\\tstreetaddress\\tcity\\tstate\\tpostalcode\\tcountry\\tphone\\n12\\tJames\\tDominick\\t4 Mast Ct\\tPortsmouth\\tVA\\t23703\\tUSA\\t(757) 686-2992\\n*/\\n\\n\\nCREATE TABLE employee (\\n\\temployee_id INTEGER, \\n\\tfirst_name TEXT, \\n\\tlast_name TEXT, \\n\\temail TEXT, \\n\\tphone_number TEXT, \\n\\thire_date TEXT, \\n\\tjob_id TEXT, \\n\\tsalary REAL, \\n\\tmanager_id REAL, \\n\\tdepartment_id INTEGER\\n)\\n\\n/*\\n1 rows from employee table:\\nemployee_id\\tfirst_name\\tlast_name\\temail\\tphone_number\\thire_date\\tjob_id\\tsalary\\tmanager_id\\tdepartment_id\\n100\\tSteven\\tKing\\tsteven.king@example.com\\t515.123.4567\\t2003-06-17\\tAD_PRES\\t24000.0\\tNone\\t90\\n*/\\n\\n\\nCREATE TABLE sale (\\n\\tsaleid INTEGER, \\n\\tsaledate TEXT, \\n\\tcustomerid INTEGER, \\n\\ttax REAL, \\n\\tshipping REAL\\n)\\n\\n/*\\n1 rows from sale table:\\nsaleid\\tsaledate\\tcustomerid\\ttax\\tshipping\\n191228\\t2013-12-31\\t1134\\t0.0\\t44.37\\n*/\"\n",
      "}\n",
      "\u001b[36;1m\u001b[1;3m[chain/end]\u001b[0m \u001b[1m[chain:RunnableSequence > chain:RunnableLambda] [0ms] Exiting Chain run with output:\n",
      "\u001b[0m{\n",
      "  \"input\": \"Найди мне топ 5 клиентов, заплативших наибольшую стоимость пересылки\\nSQLQuery: \",\n",
      "  \"table_info\": \"\\nCREATE TABLE customer (\\n\\tcustomerid INTEGER, \\n\\tfirstname TEXT, \\n\\tlastname TEXT, \\n\\tstreetaddress TEXT, \\n\\tcity TEXT, \\n\\tstate TEXT, \\n\\tpostalcode TEXT, \\n\\tcountry TEXT, \\n\\tphone TEXT\\n)\\n\\n/*\\n1 rows from customer table:\\ncustomerid\\tfirstname\\tlastname\\tstreetaddress\\tcity\\tstate\\tpostalcode\\tcountry\\tphone\\n12\\tJames\\tDominick\\t4 Mast Ct\\tPortsmouth\\tVA\\t23703\\tUSA\\t(757) 686-2992\\n*/\\n\\n\\nCREATE TABLE employee (\\n\\temployee_id INTEGER, \\n\\tfirst_name TEXT, \\n\\tlast_name TEXT, \\n\\temail TEXT, \\n\\tphone_number TEXT, \\n\\thire_date TEXT, \\n\\tjob_id TEXT, \\n\\tsalary REAL, \\n\\tmanager_id REAL, \\n\\tdepartment_id INTEGER\\n)\\n\\n/*\\n1 rows from employee table:\\nemployee_id\\tfirst_name\\tlast_name\\temail\\tphone_number\\thire_date\\tjob_id\\tsalary\\tmanager_id\\tdepartment_id\\n100\\tSteven\\tKing\\tsteven.king@example.com\\t515.123.4567\\t2003-06-17\\tAD_PRES\\t24000.0\\tNone\\t90\\n*/\\n\\n\\nCREATE TABLE sale (\\n\\tsaleid INTEGER, \\n\\tsaledate TEXT, \\n\\tcustomerid INTEGER, \\n\\ttax REAL, \\n\\tshipping REAL\\n)\\n\\n/*\\n1 rows from sale table:\\nsaleid\\tsaledate\\tcustomerid\\ttax\\tshipping\\n191228\\t2013-12-31\\t1134\\t0.0\\t44.37\\n*/\"\n",
      "}\n",
      "\u001b[32;1m\u001b[1;3m[chain/start]\u001b[0m \u001b[1m[chain:RunnableSequence > prompt:PromptTemplate] Entering Prompt run with input:\n",
      "\u001b[0m{\n",
      "  \"input\": \"Найди мне топ 5 клиентов, заплативших наибольшую стоимость пересылки\\nSQLQuery: \",\n",
      "  \"table_info\": \"\\nCREATE TABLE customer (\\n\\tcustomerid INTEGER, \\n\\tfirstname TEXT, \\n\\tlastname TEXT, \\n\\tstreetaddress TEXT, \\n\\tcity TEXT, \\n\\tstate TEXT, \\n\\tpostalcode TEXT, \\n\\tcountry TEXT, \\n\\tphone TEXT\\n)\\n\\n/*\\n1 rows from customer table:\\ncustomerid\\tfirstname\\tlastname\\tstreetaddress\\tcity\\tstate\\tpostalcode\\tcountry\\tphone\\n12\\tJames\\tDominick\\t4 Mast Ct\\tPortsmouth\\tVA\\t23703\\tUSA\\t(757) 686-2992\\n*/\\n\\n\\nCREATE TABLE employee (\\n\\temployee_id INTEGER, \\n\\tfirst_name TEXT, \\n\\tlast_name TEXT, \\n\\temail TEXT, \\n\\tphone_number TEXT, \\n\\thire_date TEXT, \\n\\tjob_id TEXT, \\n\\tsalary REAL, \\n\\tmanager_id REAL, \\n\\tdepartment_id INTEGER\\n)\\n\\n/*\\n1 rows from employee table:\\nemployee_id\\tfirst_name\\tlast_name\\temail\\tphone_number\\thire_date\\tjob_id\\tsalary\\tmanager_id\\tdepartment_id\\n100\\tSteven\\tKing\\tsteven.king@example.com\\t515.123.4567\\t2003-06-17\\tAD_PRES\\t24000.0\\tNone\\t90\\n*/\\n\\n\\nCREATE TABLE sale (\\n\\tsaleid INTEGER, \\n\\tsaledate TEXT, \\n\\tcustomerid INTEGER, \\n\\ttax REAL, \\n\\tshipping REAL\\n)\\n\\n/*\\n1 rows from sale table:\\nsaleid\\tsaledate\\tcustomerid\\ttax\\tshipping\\n191228\\t2013-12-31\\t1134\\t0.0\\t44.37\\n*/\"\n",
      "}\n",
      "\u001b[36;1m\u001b[1;3m[chain/end]\u001b[0m \u001b[1m[chain:RunnableSequence > prompt:PromptTemplate] [0ms] Exiting Prompt run with output:\n",
      "\u001b[0m[outputs]\n",
      "\u001b[32;1m\u001b[1;3m[llm/start]\u001b[0m \u001b[1m[chain:RunnableSequence > llm:ChatYandexGPT] Entering LLM run with input:\n",
      "\u001b[0m{\n",
      "  \"prompts\": [\n",
      "    \"Human: You are a SQLite expert. Given an input question, first create a syntactically correct SQLite query to run, then look at the results of the query and return the answer to the input question.\\nUnless the user specifies in the question a specific number of examples to obtain, query for at most 5 results using the LIMIT clause as per SQLite. You can order the results to return the most informative data in the database.\\nNever query for all columns from a table. You must query only the columns that are needed to answer the question. Wrap each column name in double quotes (\\\") to denote them as delimited identifiers.\\nPay attention to use only the column names you can see in the tables below. Be careful to not query for columns that do not exist. Also, pay attention to which column is in which table.\\nPay attention to use date('now') function to get the current date, if the question involves \\\"today\\\".\\n\\nUse the following format:\\n\\nQuestion: Question here\\nSQLQuery: SQL Query to run\\nSQLResult: Result of the SQLQuery\\nAnswer: Final answer here\\n\\nOnly use the following tables:\\n\\nCREATE TABLE customer (\\n\\tcustomerid INTEGER, \\n\\tfirstname TEXT, \\n\\tlastname TEXT, \\n\\tstreetaddress TEXT, \\n\\tcity TEXT, \\n\\tstate TEXT, \\n\\tpostalcode TEXT, \\n\\tcountry TEXT, \\n\\tphone TEXT\\n)\\n\\n/*\\n1 rows from customer table:\\ncustomerid\\tfirstname\\tlastname\\tstreetaddress\\tcity\\tstate\\tpostalcode\\tcountry\\tphone\\n12\\tJames\\tDominick\\t4 Mast Ct\\tPortsmouth\\tVA\\t23703\\tUSA\\t(757) 686-2992\\n*/\\n\\n\\nCREATE TABLE employee (\\n\\temployee_id INTEGER, \\n\\tfirst_name TEXT, \\n\\tlast_name TEXT, \\n\\temail TEXT, \\n\\tphone_number TEXT, \\n\\thire_date TEXT, \\n\\tjob_id TEXT, \\n\\tsalary REAL, \\n\\tmanager_id REAL, \\n\\tdepartment_id INTEGER\\n)\\n\\n/*\\n1 rows from employee table:\\nemployee_id\\tfirst_name\\tlast_name\\temail\\tphone_number\\thire_date\\tjob_id\\tsalary\\tmanager_id\\tdepartment_id\\n100\\tSteven\\tKing\\tsteven.king@example.com\\t515.123.4567\\t2003-06-17\\tAD_PRES\\t24000.0\\tNone\\t90\\n*/\\n\\n\\nCREATE TABLE sale (\\n\\tsaleid INTEGER, \\n\\tsaledate TEXT, \\n\\tcustomerid INTEGER, \\n\\ttax REAL, \\n\\tshipping REAL\\n)\\n\\n/*\\n1 rows from sale table:\\nsaleid\\tsaledate\\tcustomerid\\ttax\\tshipping\\n191228\\t2013-12-31\\t1134\\t0.0\\t44.37\\n*/\\n\\nQuestion: Найди мне топ 5 клиентов, заплативших наибольшую стоимость пересылки\\nSQLQuery:\"\n",
      "  ]\n",
      "}\n",
      "\u001b[36;1m\u001b[1;3m[llm/end]\u001b[0m \u001b[1m[chain:RunnableSequence > llm:ChatYandexGPT] [507ms] Exiting LLM run with output:\n",
      "\u001b[0m{\n",
      "  \"generations\": [\n",
      "    [\n",
      "      {\n",
      "        \"text\": \"SQLQuery: ```SELECT \\\"customerid\\\", \\\"shipping\\\" FROM \\\"sale\\\" ORDER BY \\\"shipping\\\" DESC LIMIT 5;```\",\n",
      "        \"generation_info\": null,\n",
      "        \"type\": \"ChatGeneration\",\n",
      "        \"message\": {\n",
      "          \"lc\": 1,\n",
      "          \"type\": \"constructor\",\n",
      "          \"id\": [\n",
      "            \"langchain\",\n",
      "            \"schema\",\n",
      "            \"messages\",\n",
      "            \"AIMessage\"\n",
      "          ],\n",
      "          \"kwargs\": {\n",
      "            \"content\": \"SQLQuery: ```SELECT \\\"customerid\\\", \\\"shipping\\\" FROM \\\"sale\\\" ORDER BY \\\"shipping\\\" DESC LIMIT 5;```\",\n",
      "            \"type\": \"ai\",\n",
      "            \"id\": \"run--1bdc0162-455e-40e0-a96d-d4eb3f7a41cf-0\",\n",
      "            \"tool_calls\": [],\n",
      "            \"invalid_tool_calls\": []\n",
      "          }\n",
      "        }\n",
      "      }\n",
      "    ]\n",
      "  ],\n",
      "  \"llm_output\": null,\n",
      "  \"run\": null,\n",
      "  \"type\": \"LLMResult\"\n",
      "}\n",
      "\u001b[32;1m\u001b[1;3m[chain/start]\u001b[0m \u001b[1m[chain:RunnableSequence > parser:StrOutputParser] Entering Parser run with input:\n",
      "\u001b[0m[inputs]\n",
      "\u001b[36;1m\u001b[1;3m[chain/end]\u001b[0m \u001b[1m[chain:RunnableSequence > parser:StrOutputParser] [0ms] Exiting Parser run with output:\n",
      "\u001b[0m{\n",
      "  \"output\": \"SQLQuery: ```SELECT \\\"customerid\\\", \\\"shipping\\\" FROM \\\"sale\\\" ORDER BY \\\"shipping\\\" DESC LIMIT 5;```\"\n",
      "}\n",
      "\u001b[32;1m\u001b[1;3m[chain/start]\u001b[0m \u001b[1m[chain:RunnableSequence > chain:_strip] Entering Chain run with input:\n",
      "\u001b[0m{\n",
      "  \"input\": \"SQLQuery: ```SELECT \\\"customerid\\\", \\\"shipping\\\" FROM \\\"sale\\\" ORDER BY \\\"shipping\\\" DESC LIMIT 5;```\"\n",
      "}\n",
      "\u001b[36;1m\u001b[1;3m[chain/end]\u001b[0m \u001b[1m[chain:RunnableSequence > chain:_strip] [0ms] Exiting Chain run with output:\n",
      "\u001b[0m{\n",
      "  \"output\": \"SQLQuery: ```SELECT \\\"customerid\\\", \\\"shipping\\\" FROM \\\"sale\\\" ORDER BY \\\"shipping\\\" DESC LIMIT 5;```\"\n",
      "}\n",
      "\u001b[36;1m\u001b[1;3m[chain/end]\u001b[0m \u001b[1m[chain:RunnableSequence] [511ms] Exiting Chain run with output:\n",
      "\u001b[0m{\n",
      "  \"output\": \"SQLQuery: ```SELECT \\\"customerid\\\", \\\"shipping\\\" FROM \\\"sale\\\" ORDER BY \\\"shipping\\\" DESC LIMIT 5;```\"\n",
      "}\n",
      "SQLQuery: ```SELECT \"customerid\", \"shipping\" FROM \"sale\" ORDER BY \"shipping\" DESC LIMIT 5;```\n"
     ]
    },
    {
     "ename": "OperationalError",
     "evalue": "(sqlite3.OperationalError) near \"SQLQuery\": syntax error\n[SQL: SQLQuery: ```SELECT \"customerid\", \"shipping\" FROM \"sale\" ORDER BY \"shipping\" DESC LIMIT 5;]\n(Background on this error at: https://sqlalche.me/e/20/e3q8)",
     "output_type": "error",
     "traceback": [
      "\u001b[1;31m---------------------------------------------------------------------------\u001b[0m",
      "\u001b[1;31mOperationalError\u001b[0m                          Traceback (most recent call last)",
      "File \u001b[1;32m~\\Desktop\\yandex-cloud\\.venv\\lib\\site-packages\\sqlalchemy\\engine\\base.py:1964\u001b[0m, in \u001b[0;36mConnection._exec_single_context\u001b[1;34m(self, dialect, context, statement, parameters)\u001b[0m\n\u001b[0;32m   1963\u001b[0m     \u001b[38;5;28;01mif\u001b[39;00m \u001b[38;5;129;01mnot\u001b[39;00m evt_handled:\n\u001b[1;32m-> 1964\u001b[0m         \u001b[38;5;28;43mself\u001b[39;49m\u001b[38;5;241;43m.\u001b[39;49m\u001b[43mdialect\u001b[49m\u001b[38;5;241;43m.\u001b[39;49m\u001b[43mdo_execute\u001b[49m\u001b[43m(\u001b[49m\n\u001b[0;32m   1965\u001b[0m \u001b[43m            \u001b[49m\u001b[43mcursor\u001b[49m\u001b[43m,\u001b[49m\u001b[43m \u001b[49m\u001b[43mstr_statement\u001b[49m\u001b[43m,\u001b[49m\u001b[43m \u001b[49m\u001b[43meffective_parameters\u001b[49m\u001b[43m,\u001b[49m\u001b[43m \u001b[49m\u001b[43mcontext\u001b[49m\n\u001b[0;32m   1966\u001b[0m \u001b[43m        \u001b[49m\u001b[43m)\u001b[49m\n\u001b[0;32m   1968\u001b[0m \u001b[38;5;28;01mif\u001b[39;00m \u001b[38;5;28mself\u001b[39m\u001b[38;5;241m.\u001b[39m_has_events \u001b[38;5;129;01mor\u001b[39;00m \u001b[38;5;28mself\u001b[39m\u001b[38;5;241m.\u001b[39mengine\u001b[38;5;241m.\u001b[39m_has_events:\n",
      "File \u001b[1;32m~\\Desktop\\yandex-cloud\\.venv\\lib\\site-packages\\sqlalchemy\\engine\\default.py:945\u001b[0m, in \u001b[0;36mDefaultDialect.do_execute\u001b[1;34m(self, cursor, statement, parameters, context)\u001b[0m\n\u001b[0;32m    944\u001b[0m \u001b[38;5;28;01mdef\u001b[39;00m\u001b[38;5;250m \u001b[39m\u001b[38;5;21mdo_execute\u001b[39m(\u001b[38;5;28mself\u001b[39m, cursor, statement, parameters, context\u001b[38;5;241m=\u001b[39m\u001b[38;5;28;01mNone\u001b[39;00m):\n\u001b[1;32m--> 945\u001b[0m     \u001b[43mcursor\u001b[49m\u001b[38;5;241;43m.\u001b[39;49m\u001b[43mexecute\u001b[49m\u001b[43m(\u001b[49m\u001b[43mstatement\u001b[49m\u001b[43m,\u001b[49m\u001b[43m \u001b[49m\u001b[43mparameters\u001b[49m\u001b[43m)\u001b[49m\n",
      "\u001b[1;31mOperationalError\u001b[0m: near \"SQLQuery\": syntax error",
      "\nThe above exception was the direct cause of the following exception:\n",
      "\u001b[1;31mOperationalError\u001b[0m                          Traceback (most recent call last)",
      "Cell \u001b[1;32mIn[27], line 3\u001b[0m\n\u001b[0;32m      1\u001b[0m response \u001b[38;5;241m=\u001b[39m chain\u001b[38;5;241m.\u001b[39minvoke({\u001b[38;5;124m\"\u001b[39m\u001b[38;5;124mquestion\u001b[39m\u001b[38;5;124m\"\u001b[39m: \u001b[38;5;124m\"\u001b[39m\u001b[38;5;124mНайди мне топ 5 клиентов, заплативших наибольшую стоимость пересылки\u001b[39m\u001b[38;5;124m\"\u001b[39m})\n\u001b[0;32m      2\u001b[0m \u001b[38;5;28mprint\u001b[39m(response)\n\u001b[1;32m----> 3\u001b[0m \u001b[38;5;28mprint\u001b[39m(\u001b[43mdb\u001b[49m\u001b[38;5;241;43m.\u001b[39;49m\u001b[43mrun\u001b[49m\u001b[43m(\u001b[49m\u001b[43mresponse\u001b[49m\u001b[38;5;241;43m.\u001b[39;49m\u001b[43mstrip\u001b[49m\u001b[43m(\u001b[49m\u001b[38;5;124;43m\"\u001b[39;49m\u001b[38;5;124;43m`\u001b[39;49m\u001b[38;5;130;43;01m\\n\u001b[39;49;00m\u001b[38;5;124;43m\"\u001b[39;49m\u001b[43m)\u001b[49m\u001b[43m)\u001b[49m)\n",
      "File \u001b[1;32m~\\Desktop\\yandex-cloud\\.venv\\lib\\site-packages\\langchain_community\\utilities\\sql_database.py:553\u001b[0m, in \u001b[0;36mSQLDatabase.run\u001b[1;34m(self, command, fetch, include_columns, parameters, execution_options)\u001b[0m\n\u001b[0;32m    539\u001b[0m \u001b[38;5;28;01mdef\u001b[39;00m\u001b[38;5;250m \u001b[39m\u001b[38;5;21mrun\u001b[39m(\n\u001b[0;32m    540\u001b[0m     \u001b[38;5;28mself\u001b[39m,\n\u001b[0;32m    541\u001b[0m     command: Union[\u001b[38;5;28mstr\u001b[39m, Executable],\n\u001b[1;32m   (...)\u001b[0m\n\u001b[0;32m    546\u001b[0m     execution_options: Optional[Dict[\u001b[38;5;28mstr\u001b[39m, Any]] \u001b[38;5;241m=\u001b[39m \u001b[38;5;28;01mNone\u001b[39;00m,\n\u001b[0;32m    547\u001b[0m ) \u001b[38;5;241m-\u001b[39m\u001b[38;5;241m>\u001b[39m Union[\u001b[38;5;28mstr\u001b[39m, Sequence[Dict[\u001b[38;5;28mstr\u001b[39m, Any]], Result[Any]]:\n\u001b[0;32m    548\u001b[0m \u001b[38;5;250m    \u001b[39m\u001b[38;5;124;03m\"\"\"Execute a SQL command and return a string representing the results.\u001b[39;00m\n\u001b[0;32m    549\u001b[0m \n\u001b[0;32m    550\u001b[0m \u001b[38;5;124;03m    If the statement returns rows, a string of the results is returned.\u001b[39;00m\n\u001b[0;32m    551\u001b[0m \u001b[38;5;124;03m    If the statement returns no rows, an empty string is returned.\u001b[39;00m\n\u001b[0;32m    552\u001b[0m \u001b[38;5;124;03m    \"\"\"\u001b[39;00m\n\u001b[1;32m--> 553\u001b[0m     result \u001b[38;5;241m=\u001b[39m \u001b[38;5;28;43mself\u001b[39;49m\u001b[38;5;241;43m.\u001b[39;49m\u001b[43m_execute\u001b[49m\u001b[43m(\u001b[49m\n\u001b[0;32m    554\u001b[0m \u001b[43m        \u001b[49m\u001b[43mcommand\u001b[49m\u001b[43m,\u001b[49m\u001b[43m \u001b[49m\u001b[43mfetch\u001b[49m\u001b[43m,\u001b[49m\u001b[43m \u001b[49m\u001b[43mparameters\u001b[49m\u001b[38;5;241;43m=\u001b[39;49m\u001b[43mparameters\u001b[49m\u001b[43m,\u001b[49m\u001b[43m \u001b[49m\u001b[43mexecution_options\u001b[49m\u001b[38;5;241;43m=\u001b[39;49m\u001b[43mexecution_options\u001b[49m\n\u001b[0;32m    555\u001b[0m \u001b[43m    \u001b[49m\u001b[43m)\u001b[49m\n\u001b[0;32m    557\u001b[0m     \u001b[38;5;28;01mif\u001b[39;00m fetch \u001b[38;5;241m==\u001b[39m \u001b[38;5;124m\"\u001b[39m\u001b[38;5;124mcursor\u001b[39m\u001b[38;5;124m\"\u001b[39m:\n\u001b[0;32m    558\u001b[0m         \u001b[38;5;28;01mreturn\u001b[39;00m result\n",
      "File \u001b[1;32m~\\Desktop\\yandex-cloud\\.venv\\lib\\site-packages\\langchain_community\\utilities\\sql_database.py:518\u001b[0m, in \u001b[0;36mSQLDatabase._execute\u001b[1;34m(self, command, fetch, parameters, execution_options)\u001b[0m\n\u001b[0;32m    516\u001b[0m \u001b[38;5;28;01melse\u001b[39;00m:\n\u001b[0;32m    517\u001b[0m     \u001b[38;5;28;01mraise\u001b[39;00m \u001b[38;5;167;01mTypeError\u001b[39;00m(\u001b[38;5;124mf\u001b[39m\u001b[38;5;124m\"\u001b[39m\u001b[38;5;124mQuery expression has unknown type: \u001b[39m\u001b[38;5;132;01m{\u001b[39;00m\u001b[38;5;28mtype\u001b[39m(command)\u001b[38;5;132;01m}\u001b[39;00m\u001b[38;5;124m\"\u001b[39m)\n\u001b[1;32m--> 518\u001b[0m cursor \u001b[38;5;241m=\u001b[39m \u001b[43mconnection\u001b[49m\u001b[38;5;241;43m.\u001b[39;49m\u001b[43mexecute\u001b[49m\u001b[43m(\u001b[49m\n\u001b[0;32m    519\u001b[0m \u001b[43m    \u001b[49m\u001b[43mcommand\u001b[49m\u001b[43m,\u001b[49m\n\u001b[0;32m    520\u001b[0m \u001b[43m    \u001b[49m\u001b[43mparameters\u001b[49m\u001b[43m,\u001b[49m\n\u001b[0;32m    521\u001b[0m \u001b[43m    \u001b[49m\u001b[43mexecution_options\u001b[49m\u001b[38;5;241;43m=\u001b[39;49m\u001b[43mexecution_options\u001b[49m\u001b[43m,\u001b[49m\n\u001b[0;32m    522\u001b[0m \u001b[43m\u001b[49m\u001b[43m)\u001b[49m\n\u001b[0;32m    524\u001b[0m \u001b[38;5;28;01mif\u001b[39;00m cursor\u001b[38;5;241m.\u001b[39mreturns_rows:\n\u001b[0;32m    525\u001b[0m     \u001b[38;5;28;01mif\u001b[39;00m fetch \u001b[38;5;241m==\u001b[39m \u001b[38;5;124m\"\u001b[39m\u001b[38;5;124mall\u001b[39m\u001b[38;5;124m\"\u001b[39m:\n",
      "File \u001b[1;32m~\\Desktop\\yandex-cloud\\.venv\\lib\\site-packages\\sqlalchemy\\engine\\base.py:1416\u001b[0m, in \u001b[0;36mConnection.execute\u001b[1;34m(self, statement, parameters, execution_options)\u001b[0m\n\u001b[0;32m   1414\u001b[0m     \u001b[38;5;28;01mraise\u001b[39;00m exc\u001b[38;5;241m.\u001b[39mObjectNotExecutableError(statement) \u001b[38;5;28;01mfrom\u001b[39;00m\u001b[38;5;250m \u001b[39m\u001b[38;5;21;01merr\u001b[39;00m\n\u001b[0;32m   1415\u001b[0m \u001b[38;5;28;01melse\u001b[39;00m:\n\u001b[1;32m-> 1416\u001b[0m     \u001b[38;5;28;01mreturn\u001b[39;00m \u001b[43mmeth\u001b[49m\u001b[43m(\u001b[49m\n\u001b[0;32m   1417\u001b[0m \u001b[43m        \u001b[49m\u001b[38;5;28;43mself\u001b[39;49m\u001b[43m,\u001b[49m\n\u001b[0;32m   1418\u001b[0m \u001b[43m        \u001b[49m\u001b[43mdistilled_parameters\u001b[49m\u001b[43m,\u001b[49m\n\u001b[0;32m   1419\u001b[0m \u001b[43m        \u001b[49m\u001b[43mexecution_options\u001b[49m\u001b[43m \u001b[49m\u001b[38;5;129;43;01mor\u001b[39;49;00m\u001b[43m \u001b[49m\u001b[43mNO_OPTIONS\u001b[49m\u001b[43m,\u001b[49m\n\u001b[0;32m   1420\u001b[0m \u001b[43m    \u001b[49m\u001b[43m)\u001b[49m\n",
      "File \u001b[1;32m~\\Desktop\\yandex-cloud\\.venv\\lib\\site-packages\\sqlalchemy\\sql\\elements.py:523\u001b[0m, in \u001b[0;36mClauseElement._execute_on_connection\u001b[1;34m(self, connection, distilled_params, execution_options)\u001b[0m\n\u001b[0;32m    521\u001b[0m     \u001b[38;5;28;01mif\u001b[39;00m TYPE_CHECKING:\n\u001b[0;32m    522\u001b[0m         \u001b[38;5;28;01massert\u001b[39;00m \u001b[38;5;28misinstance\u001b[39m(\u001b[38;5;28mself\u001b[39m, Executable)\n\u001b[1;32m--> 523\u001b[0m     \u001b[38;5;28;01mreturn\u001b[39;00m \u001b[43mconnection\u001b[49m\u001b[38;5;241;43m.\u001b[39;49m\u001b[43m_execute_clauseelement\u001b[49m\u001b[43m(\u001b[49m\n\u001b[0;32m    524\u001b[0m \u001b[43m        \u001b[49m\u001b[38;5;28;43mself\u001b[39;49m\u001b[43m,\u001b[49m\u001b[43m \u001b[49m\u001b[43mdistilled_params\u001b[49m\u001b[43m,\u001b[49m\u001b[43m \u001b[49m\u001b[43mexecution_options\u001b[49m\n\u001b[0;32m    525\u001b[0m \u001b[43m    \u001b[49m\u001b[43m)\u001b[49m\n\u001b[0;32m    526\u001b[0m \u001b[38;5;28;01melse\u001b[39;00m:\n\u001b[0;32m    527\u001b[0m     \u001b[38;5;28;01mraise\u001b[39;00m exc\u001b[38;5;241m.\u001b[39mObjectNotExecutableError(\u001b[38;5;28mself\u001b[39m)\n",
      "File \u001b[1;32m~\\Desktop\\yandex-cloud\\.venv\\lib\\site-packages\\sqlalchemy\\engine\\base.py:1638\u001b[0m, in \u001b[0;36mConnection._execute_clauseelement\u001b[1;34m(self, elem, distilled_parameters, execution_options)\u001b[0m\n\u001b[0;32m   1626\u001b[0m compiled_cache: Optional[CompiledCacheType] \u001b[38;5;241m=\u001b[39m execution_options\u001b[38;5;241m.\u001b[39mget(\n\u001b[0;32m   1627\u001b[0m     \u001b[38;5;124m\"\u001b[39m\u001b[38;5;124mcompiled_cache\u001b[39m\u001b[38;5;124m\"\u001b[39m, \u001b[38;5;28mself\u001b[39m\u001b[38;5;241m.\u001b[39mengine\u001b[38;5;241m.\u001b[39m_compiled_cache\n\u001b[0;32m   1628\u001b[0m )\n\u001b[0;32m   1630\u001b[0m compiled_sql, extracted_params, cache_hit \u001b[38;5;241m=\u001b[39m elem\u001b[38;5;241m.\u001b[39m_compile_w_cache(\n\u001b[0;32m   1631\u001b[0m     dialect\u001b[38;5;241m=\u001b[39mdialect,\n\u001b[0;32m   1632\u001b[0m     compiled_cache\u001b[38;5;241m=\u001b[39mcompiled_cache,\n\u001b[1;32m   (...)\u001b[0m\n\u001b[0;32m   1636\u001b[0m     linting\u001b[38;5;241m=\u001b[39m\u001b[38;5;28mself\u001b[39m\u001b[38;5;241m.\u001b[39mdialect\u001b[38;5;241m.\u001b[39mcompiler_linting \u001b[38;5;241m|\u001b[39m compiler\u001b[38;5;241m.\u001b[39mWARN_LINTING,\n\u001b[0;32m   1637\u001b[0m )\n\u001b[1;32m-> 1638\u001b[0m ret \u001b[38;5;241m=\u001b[39m \u001b[38;5;28;43mself\u001b[39;49m\u001b[38;5;241;43m.\u001b[39;49m\u001b[43m_execute_context\u001b[49m\u001b[43m(\u001b[49m\n\u001b[0;32m   1639\u001b[0m \u001b[43m    \u001b[49m\u001b[43mdialect\u001b[49m\u001b[43m,\u001b[49m\n\u001b[0;32m   1640\u001b[0m \u001b[43m    \u001b[49m\u001b[43mdialect\u001b[49m\u001b[38;5;241;43m.\u001b[39;49m\u001b[43mexecution_ctx_cls\u001b[49m\u001b[38;5;241;43m.\u001b[39;49m\u001b[43m_init_compiled\u001b[49m\u001b[43m,\u001b[49m\n\u001b[0;32m   1641\u001b[0m \u001b[43m    \u001b[49m\u001b[43mcompiled_sql\u001b[49m\u001b[43m,\u001b[49m\n\u001b[0;32m   1642\u001b[0m \u001b[43m    \u001b[49m\u001b[43mdistilled_parameters\u001b[49m\u001b[43m,\u001b[49m\n\u001b[0;32m   1643\u001b[0m \u001b[43m    \u001b[49m\u001b[43mexecution_options\u001b[49m\u001b[43m,\u001b[49m\n\u001b[0;32m   1644\u001b[0m \u001b[43m    \u001b[49m\u001b[43mcompiled_sql\u001b[49m\u001b[43m,\u001b[49m\n\u001b[0;32m   1645\u001b[0m \u001b[43m    \u001b[49m\u001b[43mdistilled_parameters\u001b[49m\u001b[43m,\u001b[49m\n\u001b[0;32m   1646\u001b[0m \u001b[43m    \u001b[49m\u001b[43melem\u001b[49m\u001b[43m,\u001b[49m\n\u001b[0;32m   1647\u001b[0m \u001b[43m    \u001b[49m\u001b[43mextracted_params\u001b[49m\u001b[43m,\u001b[49m\n\u001b[0;32m   1648\u001b[0m \u001b[43m    \u001b[49m\u001b[43mcache_hit\u001b[49m\u001b[38;5;241;43m=\u001b[39;49m\u001b[43mcache_hit\u001b[49m\u001b[43m,\u001b[49m\n\u001b[0;32m   1649\u001b[0m \u001b[43m\u001b[49m\u001b[43m)\u001b[49m\n\u001b[0;32m   1650\u001b[0m \u001b[38;5;28;01mif\u001b[39;00m has_events:\n\u001b[0;32m   1651\u001b[0m     \u001b[38;5;28mself\u001b[39m\u001b[38;5;241m.\u001b[39mdispatch\u001b[38;5;241m.\u001b[39mafter_execute(\n\u001b[0;32m   1652\u001b[0m         \u001b[38;5;28mself\u001b[39m,\n\u001b[0;32m   1653\u001b[0m         elem,\n\u001b[1;32m   (...)\u001b[0m\n\u001b[0;32m   1657\u001b[0m         ret,\n\u001b[0;32m   1658\u001b[0m     )\n",
      "File \u001b[1;32m~\\Desktop\\yandex-cloud\\.venv\\lib\\site-packages\\sqlalchemy\\engine\\base.py:1843\u001b[0m, in \u001b[0;36mConnection._execute_context\u001b[1;34m(self, dialect, constructor, statement, parameters, execution_options, *args, **kw)\u001b[0m\n\u001b[0;32m   1841\u001b[0m     \u001b[38;5;28;01mreturn\u001b[39;00m \u001b[38;5;28mself\u001b[39m\u001b[38;5;241m.\u001b[39m_exec_insertmany_context(dialect, context)\n\u001b[0;32m   1842\u001b[0m \u001b[38;5;28;01melse\u001b[39;00m:\n\u001b[1;32m-> 1843\u001b[0m     \u001b[38;5;28;01mreturn\u001b[39;00m \u001b[38;5;28;43mself\u001b[39;49m\u001b[38;5;241;43m.\u001b[39;49m\u001b[43m_exec_single_context\u001b[49m\u001b[43m(\u001b[49m\n\u001b[0;32m   1844\u001b[0m \u001b[43m        \u001b[49m\u001b[43mdialect\u001b[49m\u001b[43m,\u001b[49m\u001b[43m \u001b[49m\u001b[43mcontext\u001b[49m\u001b[43m,\u001b[49m\u001b[43m \u001b[49m\u001b[43mstatement\u001b[49m\u001b[43m,\u001b[49m\u001b[43m \u001b[49m\u001b[43mparameters\u001b[49m\n\u001b[0;32m   1845\u001b[0m \u001b[43m    \u001b[49m\u001b[43m)\u001b[49m\n",
      "File \u001b[1;32m~\\Desktop\\yandex-cloud\\.venv\\lib\\site-packages\\sqlalchemy\\engine\\base.py:1983\u001b[0m, in \u001b[0;36mConnection._exec_single_context\u001b[1;34m(self, dialect, context, statement, parameters)\u001b[0m\n\u001b[0;32m   1980\u001b[0m     result \u001b[38;5;241m=\u001b[39m context\u001b[38;5;241m.\u001b[39m_setup_result_proxy()\n\u001b[0;32m   1982\u001b[0m \u001b[38;5;28;01mexcept\u001b[39;00m \u001b[38;5;167;01mBaseException\u001b[39;00m \u001b[38;5;28;01mas\u001b[39;00m e:\n\u001b[1;32m-> 1983\u001b[0m     \u001b[38;5;28;43mself\u001b[39;49m\u001b[38;5;241;43m.\u001b[39;49m\u001b[43m_handle_dbapi_exception\u001b[49m\u001b[43m(\u001b[49m\n\u001b[0;32m   1984\u001b[0m \u001b[43m        \u001b[49m\u001b[43me\u001b[49m\u001b[43m,\u001b[49m\u001b[43m \u001b[49m\u001b[43mstr_statement\u001b[49m\u001b[43m,\u001b[49m\u001b[43m \u001b[49m\u001b[43meffective_parameters\u001b[49m\u001b[43m,\u001b[49m\u001b[43m \u001b[49m\u001b[43mcursor\u001b[49m\u001b[43m,\u001b[49m\u001b[43m \u001b[49m\u001b[43mcontext\u001b[49m\n\u001b[0;32m   1985\u001b[0m \u001b[43m    \u001b[49m\u001b[43m)\u001b[49m\n\u001b[0;32m   1987\u001b[0m \u001b[38;5;28;01mreturn\u001b[39;00m result\n",
      "File \u001b[1;32m~\\Desktop\\yandex-cloud\\.venv\\lib\\site-packages\\sqlalchemy\\engine\\base.py:2352\u001b[0m, in \u001b[0;36mConnection._handle_dbapi_exception\u001b[1;34m(self, e, statement, parameters, cursor, context, is_sub_exec)\u001b[0m\n\u001b[0;32m   2350\u001b[0m \u001b[38;5;28;01melif\u001b[39;00m should_wrap:\n\u001b[0;32m   2351\u001b[0m     \u001b[38;5;28;01massert\u001b[39;00m sqlalchemy_exception \u001b[38;5;129;01mis\u001b[39;00m \u001b[38;5;129;01mnot\u001b[39;00m \u001b[38;5;28;01mNone\u001b[39;00m\n\u001b[1;32m-> 2352\u001b[0m     \u001b[38;5;28;01mraise\u001b[39;00m sqlalchemy_exception\u001b[38;5;241m.\u001b[39mwith_traceback(exc_info[\u001b[38;5;241m2\u001b[39m]) \u001b[38;5;28;01mfrom\u001b[39;00m\u001b[38;5;250m \u001b[39m\u001b[38;5;21;01me\u001b[39;00m\n\u001b[0;32m   2353\u001b[0m \u001b[38;5;28;01melse\u001b[39;00m:\n\u001b[0;32m   2354\u001b[0m     \u001b[38;5;28;01massert\u001b[39;00m exc_info[\u001b[38;5;241m1\u001b[39m] \u001b[38;5;129;01mis\u001b[39;00m \u001b[38;5;129;01mnot\u001b[39;00m \u001b[38;5;28;01mNone\u001b[39;00m\n",
      "File \u001b[1;32m~\\Desktop\\yandex-cloud\\.venv\\lib\\site-packages\\sqlalchemy\\engine\\base.py:1964\u001b[0m, in \u001b[0;36mConnection._exec_single_context\u001b[1;34m(self, dialect, context, statement, parameters)\u001b[0m\n\u001b[0;32m   1962\u001b[0m                 \u001b[38;5;28;01mbreak\u001b[39;00m\n\u001b[0;32m   1963\u001b[0m     \u001b[38;5;28;01mif\u001b[39;00m \u001b[38;5;129;01mnot\u001b[39;00m evt_handled:\n\u001b[1;32m-> 1964\u001b[0m         \u001b[38;5;28;43mself\u001b[39;49m\u001b[38;5;241;43m.\u001b[39;49m\u001b[43mdialect\u001b[49m\u001b[38;5;241;43m.\u001b[39;49m\u001b[43mdo_execute\u001b[49m\u001b[43m(\u001b[49m\n\u001b[0;32m   1965\u001b[0m \u001b[43m            \u001b[49m\u001b[43mcursor\u001b[49m\u001b[43m,\u001b[49m\u001b[43m \u001b[49m\u001b[43mstr_statement\u001b[49m\u001b[43m,\u001b[49m\u001b[43m \u001b[49m\u001b[43meffective_parameters\u001b[49m\u001b[43m,\u001b[49m\u001b[43m \u001b[49m\u001b[43mcontext\u001b[49m\n\u001b[0;32m   1966\u001b[0m \u001b[43m        \u001b[49m\u001b[43m)\u001b[49m\n\u001b[0;32m   1968\u001b[0m \u001b[38;5;28;01mif\u001b[39;00m \u001b[38;5;28mself\u001b[39m\u001b[38;5;241m.\u001b[39m_has_events \u001b[38;5;129;01mor\u001b[39;00m \u001b[38;5;28mself\u001b[39m\u001b[38;5;241m.\u001b[39mengine\u001b[38;5;241m.\u001b[39m_has_events:\n\u001b[0;32m   1969\u001b[0m     \u001b[38;5;28mself\u001b[39m\u001b[38;5;241m.\u001b[39mdispatch\u001b[38;5;241m.\u001b[39mafter_cursor_execute(\n\u001b[0;32m   1970\u001b[0m         \u001b[38;5;28mself\u001b[39m,\n\u001b[0;32m   1971\u001b[0m         cursor,\n\u001b[1;32m   (...)\u001b[0m\n\u001b[0;32m   1975\u001b[0m         context\u001b[38;5;241m.\u001b[39mexecutemany,\n\u001b[0;32m   1976\u001b[0m     )\n",
      "File \u001b[1;32m~\\Desktop\\yandex-cloud\\.venv\\lib\\site-packages\\sqlalchemy\\engine\\default.py:945\u001b[0m, in \u001b[0;36mDefaultDialect.do_execute\u001b[1;34m(self, cursor, statement, parameters, context)\u001b[0m\n\u001b[0;32m    944\u001b[0m \u001b[38;5;28;01mdef\u001b[39;00m\u001b[38;5;250m \u001b[39m\u001b[38;5;21mdo_execute\u001b[39m(\u001b[38;5;28mself\u001b[39m, cursor, statement, parameters, context\u001b[38;5;241m=\u001b[39m\u001b[38;5;28;01mNone\u001b[39;00m):\n\u001b[1;32m--> 945\u001b[0m     \u001b[43mcursor\u001b[49m\u001b[38;5;241;43m.\u001b[39;49m\u001b[43mexecute\u001b[49m\u001b[43m(\u001b[49m\u001b[43mstatement\u001b[49m\u001b[43m,\u001b[49m\u001b[43m \u001b[49m\u001b[43mparameters\u001b[49m\u001b[43m)\u001b[49m\n",
      "\u001b[1;31mOperationalError\u001b[0m: (sqlite3.OperationalError) near \"SQLQuery\": syntax error\n[SQL: SQLQuery: ```SELECT \"customerid\", \"shipping\" FROM \"sale\" ORDER BY \"shipping\" DESC LIMIT 5;]\n(Background on this error at: https://sqlalche.me/e/20/e3q8)"
     ]
    }
   ],
   "source": [
    "response = chain.invoke({\"question\": \"Найди мне топ 5 клиентов, заплативших наибольшую стоимость пересылки\"})\n",
    "print(response)\n",
    "print(db.run(response.strip(\"`\\n\")))"
   ]
  },
  {
   "cell_type": "code",
   "execution_count": null,
   "id": "ca635ee7",
   "metadata": {},
   "outputs": [],
   "source": []
  },
  {
   "cell_type": "code",
   "execution_count": null,
   "id": "51155224",
   "metadata": {},
   "outputs": [],
   "source": []
  },
  {
   "cell_type": "code",
   "execution_count": null,
   "id": "5d93f858",
   "metadata": {},
   "outputs": [],
   "source": []
  },
  {
   "cell_type": "code",
   "execution_count": null,
   "id": "9a11622e",
   "metadata": {},
   "outputs": [],
   "source": []
  }
 ],
 "metadata": {
  "kernelspec": {
   "display_name": "Python 3 (ipykernel)",
   "language": "python",
   "name": "python3"
  },
  "language_info": {
   "codemirror_mode": {
    "name": "ipython",
    "version": 3
   },
   "file_extension": ".py",
   "mimetype": "text/x-python",
   "name": "python",
   "nbconvert_exporter": "python",
   "pygments_lexer": "ipython3",
   "version": "3.10.11"
  }
 },
 "nbformat": 4,
 "nbformat_minor": 5
}
