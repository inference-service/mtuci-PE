{
 "cells": [
  {
   "cell_type": "code",
   "execution_count": 10,
   "id": "a173153d-2eac-4713-9873-4ff40c1e71d6",
   "metadata": {},
   "outputs": [
    {
     "name": "stdout",
     "output_type": "stream",
     "text": [
      "Количество токенов: 14\n",
      "Количество токенов: 14\n",
      "Количество токенов: 26\n"
     ]
    }
   ],
   "source": [
    "from __future__ import annotations\n",
    "\n",
    "from yandex_cloud_ml_sdk import YCloudML\n",
    "from yandex_cloud_ml_sdk.auth import IAMTokenAuth\n",
    "\n",
    "import dotenv, os\n",
    "dotenv.load_dotenv()\n",
    "config = dotenv.dotenv_values()\n",
    "\n",
    "def main() -> None:\n",
    "    sdk = YCloudML(\n",
    "        folder_id=config[\"YC_FOLDER_ID\"],\n",
    "        auth=IAMTokenAuth(config[\"YC_IAM_TOKEN\"]),\n",
    "        enable_server_data_logging=False,\n",
    "    )\n",
    "\n",
    "    model = sdk.models.completions('yandexgpt-lite')\n",
    "\n",
    "    result = model.tokenize(\"За окном идёт дождь\")\n",
    "\n",
    "    print(f'Количество токенов: {len(result)}')\n",
    "    #for token in result:\n",
    "    #    print(token)\n",
    "\n",
    "    result = model.tokenize(\"За окном идёт Дождь\")\n",
    "    print(f'Количество токенов: {len(result)}')\n",
    "    \n",
    "    result = model.tokenize(\"3а aк№ом 1д0т Д0zдь\")\n",
    "    print(f'Количество токенов: {len(result)}')\n",
    "\n",
    "if __name__ == '__main__':\n",
    "    main()"
   ]
  },
  {
   "cell_type": "code",
   "execution_count": null,
   "id": "e833ba31-2802-4012-b211-a3a044927f90",
   "metadata": {},
   "outputs": [],
   "source": []
  }
 ],
 "metadata": {
  "kernelspec": {
   "display_name": "Python 3 (ipykernel)",
   "language": "python",
   "name": "python3"
  },
  "language_info": {
   "codemirror_mode": {
    "name": "ipython",
    "version": 3
   },
   "file_extension": ".py",
   "mimetype": "text/x-python",
   "name": "python",
   "nbconvert_exporter": "python",
   "pygments_lexer": "ipython3",
   "version": "3.10.11"
  }
 },
 "nbformat": 4,
 "nbformat_minor": 5
}
