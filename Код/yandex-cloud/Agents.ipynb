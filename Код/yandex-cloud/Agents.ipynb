{
 "cells": [
  {
   "cell_type": "code",
   "execution_count": 1,
   "id": "bbee07c5-ed5a-4c87-9def-92767bffd0e9",
   "metadata": {},
   "outputs": [
    {
     "data": {
      "text/plain": [
       "True"
      ]
     },
     "execution_count": 1,
     "metadata": {},
     "output_type": "execute_result"
    }
   ],
   "source": [
    "from dotenv import load_dotenv\n",
    "from langchain_community.llms import YandexGPT\n",
    "import asyncio\n",
    "\n",
    "from langchain_core.globals import set_debug\n",
    "#set_debug(True)\n",
    "\n",
    "load_dotenv()"
   ]
  },
  {
   "cell_type": "code",
   "execution_count": 2,
   "id": "a8eb9d75-3018-44c1-9998-3eef720cda6e",
   "metadata": {},
   "outputs": [],
   "source": [
    "llm = YandexGPT(\n",
    "    temperature=0,\n",
    "    model_name=\"yandexgpt\"\n",
    ")"
   ]
  },
  {
   "cell_type": "code",
   "execution_count": 3,
   "id": "0cb4cbe0-73e9-4789-8fd8-b1842a025547",
   "metadata": {},
   "outputs": [],
   "source": [
    "from langchain.chains import LLMMathChain # Цепочка, интерпретирующая промпт и запускающая интерпретатор Python для вычислений\n",
    "from langchain.agents import Tool"
   ]
  },
  {
   "cell_type": "code",
   "execution_count": null,
   "id": "71719e51-8c26-4d01-8920-3cd01bcae397",
   "metadata": {},
   "outputs": [],
   "source": [
    "# initialize the math tool\n",
    "\n",
    "    \n",
    "     \n",
    "\n",
    "\n",
    "llm_math = LLMMathChain.from_llm(llm)\n",
    "\n",
    "async def strip_input(*args, **kwargs):\n",
    "     print (args)\n",
    "     print (kwargs)\n",
    "     global llm_math\n",
    "     return await llm_math.ainvoke(*args, **kwargs)\n",
    "\n",
    "math_tool = Tool(\n",
    "    name='Калькулятор',\n",
    "    func=llm_math.invoke,\n",
    "    coroutine=strip_input,\n",
    "    description='Полезно, когда необходимо решить вопросы с математическими выражениями.'\n",
    ")\n",
    "\n",
    "# when giving tools to LLM, we must pass as list of tools\n",
    "tools = [math_tool]  # is a list of possible Tools that your agent can use"
   ]
  },
  {
   "cell_type": "code",
   "execution_count": 4,
   "id": "e4dfb9c4-9c93-417f-ae90-a4365922b3cd",
   "metadata": {},
   "outputs": [],
   "source": [
    "from langchain.agents import initialize_agent"
   ]
  },
  {
   "cell_type": "code",
   "execution_count": null,
   "id": "389cbe81-62b2-4091-af10-9444f2ffe2ce",
   "metadata": {},
   "outputs": [],
   "source": [
    "from langchain.agents import initialize_agent\n",
    "\n",
    "zero_shot_agent = initialize_agent(\n",
    "    agent=\"zero-shot-react-description\",\n",
    "    tools=tools,\n",
    "    llm=llm,\n",
    "    verbose=True,\n",
    "    max_iterations=10\n",
    ")"
   ]
  },
  {
   "cell_type": "code",
   "execution_count": null,
   "id": "26839f4b-7253-4c6d-bce6-7dda20ca813d",
   "metadata": {},
   "outputs": [],
   "source": [
    "await zero_shot_agent.ainvoke(\"Чему равен квадратный корень из 1215?\")"
   ]
  },
  {
   "cell_type": "code",
   "execution_count": 5,
   "id": "fb187146-e895-4964-bca1-83487926d667",
   "metadata": {},
   "outputs": [],
   "source": [
    "from langchain.tools import DuckDuckGoSearchRun\n",
    "\n",
    "search = DuckDuckGoSearchRun()\n",
    "\n",
    "search_tool = Tool.from_function(\n",
    "    func=search.run,\n",
    "    name=\"Поиск\",\n",
    "    description=\"полезно, когда нужно произвести поиск информации в Интернете\"\n",
    ")"
   ]
  },
  {
   "cell_type": "code",
   "execution_count": 6,
   "id": "9ac4020c-249f-4f89-a8e4-4853ed880286",
   "metadata": {},
   "outputs": [
    {
     "name": "stderr",
     "output_type": "stream",
     "text": [
      "C:\\Users\\Tempest\\AppData\\Local\\Temp\\ipykernel_22088\\3910163658.py:3: LangChainDeprecationWarning: LangChain agents will continue to be supported, but it is recommended for new use cases to be built with LangGraph. LangGraph offers a more flexible and full-featured framework for building agents, including support for tool-calling, persistence of state, and human-in-the-loop workflows. For details, refer to the `LangGraph documentation <https://langchain-ai.github.io/langgraph/>`_ as well as guides for `Migrating from AgentExecutor <https://python.langchain.com/docs/how_to/migrate_agent/>`_ and LangGraph's `Pre-built ReAct agent <https://langchain-ai.github.io/langgraph/how-tos/create-react-agent/>`_.\n",
      "  agent = initialize_agent(\n"
     ]
    }
   ],
   "source": [
    "tools = [search_tool]\n",
    "\n",
    "agent = initialize_agent(\n",
    "    tools=tools,\n",
    "    llm=llm,\n",
    "    agent=\"zero-shot-react-description\",\n",
    "    verbose=True,\n",
    "    max_iterations=5\n",
    ")"
   ]
  },
  {
   "cell_type": "code",
   "execution_count": 9,
   "id": "70c67c86-d11d-4650-af8a-a7702a89f87f",
   "metadata": {},
   "outputs": [
    {
     "name": "stdout",
     "output_type": "stream",
     "text": [
      "\n",
      "\n",
      "\u001b[1m> Entering new AgentExecutor chain...\u001b[0m\n",
      "\u001b[32;1m\u001b[1;3mTo find the weather in Moscow on a specific date and time, I need to use the Поиск tool to search for the weather forecast.\n",
      "Action: Поиск\n",
      "Action Input: \"погода в Москве 16:59 26.06.2025\"\u001b[0m\n",
      "Observation: \u001b[36;1m\u001b[1;3mОблачно с прояснениями, кратковременный дождь, по области местами гроза и до +20 градусов — такая погода ожидает жителей столичного региона в четверг, 26 июня. Соответствующий прогноз опубликован на сайте ... Ветер юго-западный, до 5 метров в секунду, порывами до 10 метров в секунду. Также установится атмосферное давление ниже нормы на 14 пунктов - подобные показатели фиксировались лишь в 1993 году. Метеорологи прогнозируют осадки в следующих числах: 25.06.2025, 26.06.2025, 29.06.2025, 30.06.2025, 01.07.2025. Ветра ожидаются до 5 м/с. Какой прогноз погоды на месяц Москва? В ближайший месяц Москва ожидается следующая температура: от 10° до 25°. Какая вероятность сильных осадков в ближайшие 4 недели Москва? Москва (Moscow) ☀ прогноз погоды на 10 дней, информация с метеорологических станций, кадры веб-камер, восход и закат солнца, карты ветров и осадков для конкретной местности Смотрите онлайн Скидки подписчикам! Цены в столовых и на пляже!.. 34 мин 45 с. Видео от 26 июня 2025 в хорошем качестве, без регистрации в бесплатном видеокаталоге ВКонтакте! 3 — просмотрели.\u001b[0m\n",
      "Thought:\u001b[32;1m\u001b[1;3mI now know the final answer\n",
      "Final Answer: В Москве 26 июня 2025 года ожидается облачная погода с прояснениями, кратковременный дождь, местами гроза. Температура воздуха до +20 градусов. Ветер юго-западный, до 5 м/с, порывами до 10 м/с. Атмосферное давление будет ниже нормы на 14 пунктов.\u001b[0m\n",
      "\n",
      "\u001b[1m> Finished chain.\u001b[0m\n"
     ]
    },
    {
     "data": {
      "text/plain": [
       "{'input': 'Какая погода в Москве на момент 16:59 26.06.2025?',\n",
       " 'output': 'В Москве 26 июня 2025 года ожидается облачная погода с прояснениями, кратковременный дождь, местами гроза. Температура воздуха до +20 градусов. Ветер юго-западный, до 5 м/с, порывами до 10 м/с. Атмосферное давление будет ниже нормы на 14 пунктов.'}"
      ]
     },
     "execution_count": 9,
     "metadata": {},
     "output_type": "execute_result"
    }
   ],
   "source": [
    "agent.invoke(\"\"\"Какая погода в Москве на момент 16:59 26.06.2025?\"\"\")"
   ]
  },
  {
   "cell_type": "code",
   "execution_count": null,
   "id": "4d94da36-3651-4bdd-b250-d6813e6111fb",
   "metadata": {},
   "outputs": [],
   "source": []
  }
 ],
 "metadata": {
  "kernelspec": {
   "display_name": "Python 3 (ipykernel)",
   "language": "python",
   "name": "python3"
  },
  "language_info": {
   "codemirror_mode": {
    "name": "ipython",
    "version": 3
   },
   "file_extension": ".py",
   "mimetype": "text/x-python",
   "name": "python",
   "nbconvert_exporter": "python",
   "pygments_lexer": "ipython3",
   "version": "3.10.11"
  }
 },
 "nbformat": 4,
 "nbformat_minor": 5
}
